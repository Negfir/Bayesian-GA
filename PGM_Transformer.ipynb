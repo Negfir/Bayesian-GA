{
  "nbformat": 4,
  "nbformat_minor": 0,
  "metadata": {
    "colab": {
      "name": "PGM_Transformer",
      "provenance": [],
      "collapsed_sections": [],
      "include_colab_link": true
    },
    "kernelspec": {
      "display_name": "Python 3",
      "language": "python",
      "name": "python3"
    },
    "language_info": {
      "codemirror_mode": {
        "name": "ipython",
        "version": 3
      },
      "file_extension": ".py",
      "mimetype": "text/x-python",
      "name": "python",
      "nbconvert_exporter": "python",
      "pygments_lexer": "ipython3",
      "version": "3.7.0"
    },
    "accelerator": "GPU"
  },
  "cells": [
    {
      "cell_type": "markdown",
      "metadata": {
        "id": "view-in-github",
        "colab_type": "text"
      },
      "source": [
        "<a href=\"https://colab.research.google.com/github/Negfir/Bayesian-GA/blob/main/PGM_Transformer.ipynb\" target=\"_parent\"><img src=\"https://colab.research.google.com/assets/colab-badge.svg\" alt=\"Open In Colab\"/></a>"
      ]
    },
    {
      "cell_type": "markdown",
      "metadata": {
        "id": "jbCMqfPX6Umv"
      },
      "source": [
        "## Setup"
      ]
    },
    {
      "cell_type": "code",
      "metadata": {
        "id": "aSs_dWC96Umx",
        "colab": {
          "base_uri": "https://localhost:8080/"
        },
        "outputId": "552cd52a-e5f4-446b-e459-93734384658a"
      },
      "source": [
        "import os\n",
        "os.environ['TF_CPP_MIN_LOG_LEVEL'] = '0'  # or any {'0', '1', '2'}\n",
        "import tensorflow as tf\n",
        "from tensorflow import keras\n",
        "from tensorflow.keras import layers\n",
        "import numpy as np\n",
        "import pandas as pd\n",
        "import math \n",
        "from pomegranate import BayesianNetwork\n",
        "import time\n",
        "import numpy as np                \n",
        "import pandas as pd                 \n",
        "import plotly.graph_objects as go  \n",
        "np.random.seed(1234)\n",
        "print(\"Num GPUs Available: \", len(tf.config.list_physical_devices('GPU')))\n",
        "import matplotlib.pyplot as plt\n",
        "tf.debugging.set_log_device_placement(True)\n",
        "\n",
        "tf.random.set_seed(\n",
        "    7\n",
        ")\n"
      ],
      "execution_count": 1,
      "outputs": [
        {
          "output_type": "stream",
          "text": [
            "Num GPUs Available:  1\n"
          ],
          "name": "stdout"
        }
      ]
    },
    {
      "cell_type": "code",
      "metadata": {
        "colab": {
          "base_uri": "https://localhost:8080/"
        },
        "id": "ZPeqyXfB6ReI",
        "outputId": "b5259eb5-20a8-4ad4-e0a6-65b91f0d5c7d"
      },
      "source": [
        "from google.colab import drive\n",
        "drive.mount('/content/gdrive/')"
      ],
      "execution_count": 3,
      "outputs": [
        {
          "output_type": "stream",
          "text": [
            "Mounted at /content/gdrive/\n"
          ],
          "name": "stdout"
        }
      ]
    },
    {
      "cell_type": "code",
      "metadata": {
        "colab": {
          "base_uri": "https://localhost:8080/"
        },
        "id": "r2j3vhbhv3iI",
        "outputId": "c4ed00d8-d7f7-416d-eda8-47b96b2fa458"
      },
      "source": [
        "!pip install -U pymoo"
      ],
      "execution_count": 5,
      "outputs": [
        {
          "output_type": "stream",
          "text": [
            "Requirement already up-to-date: pymoo in /usr/local/lib/python3.7/dist-packages (0.4.2.2)\n",
            "Requirement already satisfied, skipping upgrade: autograd>=1.3 in /usr/local/lib/python3.7/dist-packages (from pymoo) (1.3)\n",
            "Requirement already satisfied, skipping upgrade: cma==2.7 in /usr/local/lib/python3.7/dist-packages (from pymoo) (2.7.0)\n",
            "Requirement already satisfied, skipping upgrade: scipy>=1.1 in /usr/local/lib/python3.7/dist-packages (from pymoo) (1.4.1)\n",
            "Requirement already satisfied, skipping upgrade: numpy>=1.15 in /usr/local/lib/python3.7/dist-packages (from pymoo) (1.19.5)\n",
            "Requirement already satisfied, skipping upgrade: matplotlib>=3 in /usr/local/lib/python3.7/dist-packages (from pymoo) (3.2.2)\n",
            "Requirement already satisfied, skipping upgrade: future>=0.15.2 in /usr/local/lib/python3.7/dist-packages (from autograd>=1.3->pymoo) (0.16.0)\n",
            "Requirement already satisfied, skipping upgrade: pyparsing!=2.0.4,!=2.1.2,!=2.1.6,>=2.0.1 in /usr/local/lib/python3.7/dist-packages (from matplotlib>=3->pymoo) (2.4.7)\n",
            "Requirement already satisfied, skipping upgrade: cycler>=0.10 in /usr/local/lib/python3.7/dist-packages (from matplotlib>=3->pymoo) (0.10.0)\n",
            "Requirement already satisfied, skipping upgrade: python-dateutil>=2.1 in /usr/local/lib/python3.7/dist-packages (from matplotlib>=3->pymoo) (2.8.1)\n",
            "Requirement already satisfied, skipping upgrade: kiwisolver>=1.0.1 in /usr/local/lib/python3.7/dist-packages (from matplotlib>=3->pymoo) (1.3.1)\n",
            "Requirement already satisfied, skipping upgrade: six in /usr/local/lib/python3.7/dist-packages (from cycler>=0.10->matplotlib>=3->pymoo) (1.15.0)\n"
          ],
          "name": "stdout"
        }
      ]
    },
    {
      "cell_type": "code",
      "metadata": {
        "colab": {
          "base_uri": "https://localhost:8080/",
          "height": 453
        },
        "id": "T8CVKadC-2vQ",
        "outputId": "fee403ff-1e90-4b88-b1e9-1b73703ac3dd"
      },
      "source": [
        "!pip install pomegranate\n",
        "# !pip uninstall numpy\n",
        "# !pip install numpy\n"
      ],
      "execution_count": 6,
      "outputs": [
        {
          "output_type": "stream",
          "text": [
            "Collecting pomegranate\n",
            "\u001b[?25l  Downloading https://files.pythonhosted.org/packages/a7/65/98bbcc034daac7b584e82a0f91f140dbb9ef502a1b7c96f16f3deb847232/pomegranate-0.14.4-cp37-cp37m-manylinux2010_x86_64.whl (17.9MB)\n",
            "\u001b[K     |████████████████████████████████| 17.9MB 1.2MB/s \n",
            "\u001b[?25hRequirement already satisfied: pyyaml in /usr/local/lib/python3.7/dist-packages (from pomegranate) (3.13)\n",
            "Requirement already satisfied: joblib>=0.9.0b4 in /usr/local/lib/python3.7/dist-packages (from pomegranate) (1.0.1)\n",
            "Requirement already satisfied: scipy>=0.17.0 in /usr/local/lib/python3.7/dist-packages (from pomegranate) (1.4.1)\n",
            "Requirement already satisfied: networkx>=2.0 in /usr/local/lib/python3.7/dist-packages (from pomegranate) (2.5.1)\n",
            "Collecting numpy>=1.20.0\n",
            "\u001b[?25l  Downloading https://files.pythonhosted.org/packages/73/ef/8967d406f3f85018ceb5efab50431e901683188f1741ceb053efcab26c87/numpy-1.20.2-cp37-cp37m-manylinux2010_x86_64.whl (15.3MB)\n",
            "\u001b[K     |████████████████████████████████| 15.3MB 171kB/s \n",
            "\u001b[?25hRequirement already satisfied: decorator<5,>=4.3 in /usr/local/lib/python3.7/dist-packages (from networkx>=2.0->pomegranate) (4.4.2)\n",
            "\u001b[31mERROR: tensorflow 2.4.1 has requirement numpy~=1.19.2, but you'll have numpy 1.20.2 which is incompatible.\u001b[0m\n",
            "\u001b[31mERROR: datascience 0.10.6 has requirement folium==0.2.1, but you'll have folium 0.8.3 which is incompatible.\u001b[0m\n",
            "\u001b[31mERROR: albumentations 0.1.12 has requirement imgaug<0.2.7,>=0.2.5, but you'll have imgaug 0.2.9 which is incompatible.\u001b[0m\n",
            "Installing collected packages: numpy, pomegranate\n",
            "  Found existing installation: numpy 1.19.5\n",
            "    Uninstalling numpy-1.19.5:\n",
            "      Successfully uninstalled numpy-1.19.5\n",
            "Successfully installed numpy-1.20.2 pomegranate-0.14.4\n"
          ],
          "name": "stdout"
        },
        {
          "output_type": "display_data",
          "data": {
            "application/vnd.colab-display-data+json": {
              "pip_warning": {
                "packages": [
                  "numpy"
                ]
              }
            }
          },
          "metadata": {
            "tags": []
          }
        }
      ]
    },
    {
      "cell_type": "markdown",
      "metadata": {
        "id": "9XwH00m46Umz"
      },
      "source": [
        "# Transformer block "
      ]
    },
    {
      "cell_type": "code",
      "metadata": {
        "id": "r6QsEn656Umz"
      },
      "source": [
        "\n",
        "class TransformerBlock(layers.Layer):\n",
        "    def __init__(self, embed_dim, num_heads, ff_dim, rate=0.1):\n",
        "        super(TransformerBlock, self).__init__()\n",
        "        self.att = layers.MultiHeadAttention(num_heads=num_heads, key_dim=embed_dim)\n",
        "        self.ffn = keras.Sequential(\n",
        "            [layers.Dense(ff_dim, activation=\"relu\"), layers.Dense(embed_dim),]\n",
        "        )\n",
        "        self.layernorm1 = layers.LayerNormalization(epsilon=1e-6)\n",
        "        self.layernorm2 = layers.LayerNormalization(epsilon=1e-6)\n",
        "        self.dropout1 = layers.Dropout(rate)\n",
        "        self.dropout2 = layers.Dropout(rate)\n",
        "\n",
        "    def call(self, inputs, training):\n",
        "        attn_output = self.att(inputs, inputs)\n",
        "        attn_output = self.dropout1(attn_output, training=training)\n",
        "        out1 = self.layernorm1(inputs + attn_output)\n",
        "        ffn_output = self.ffn(out1)\n",
        "        ffn_output = self.dropout2(ffn_output, training=training)\n",
        "        return self.layernorm2(out1 + ffn_output)\n"
      ],
      "execution_count": 2,
      "outputs": []
    },
    {
      "cell_type": "code",
      "metadata": {
        "id": "V_dQsPUL6Um1"
      },
      "source": [
        "\n",
        "class TokenAndPositionEmbedding(layers.Layer):\n",
        "    def __init__(self, maxlen, vocab_size, embed_dim):\n",
        "        super(TokenAndPositionEmbedding, self).__init__()\n",
        "        self.token_emb = layers.Embedding(input_dim=vocab_size, output_dim=embed_dim)\n",
        "        self.pos_emb = layers.Embedding(input_dim=maxlen, output_dim=embed_dim)\n",
        "\n",
        "    def call(self, x):\n",
        "        maxlen = tf.shape(x)[-1]\n",
        "        positions = tf.range(start=0, limit=maxlen, delta=1)\n",
        "        positions = self.pos_emb(positions)\n",
        "        x = self.token_emb(x)\n",
        "        return x + positions\n"
      ],
      "execution_count": 3,
      "outputs": []
    },
    {
      "cell_type": "markdown",
      "metadata": {
        "id": "w2DpciKH6Um3"
      },
      "source": [
        "## Download and prepare dataset"
      ]
    },
    {
      "cell_type": "code",
      "metadata": {
        "id": "yV5aFe7z6Um4",
        "colab": {
          "base_uri": "https://localhost:8080/"
        },
        "outputId": "1f0a95b2-e269-44d1-834d-930f6712fc84"
      },
      "source": [
        "vocab_size = 20000  # Only consider the top 20k words\n",
        "maxlen = 200  # Only consider the first 200 words of each movie review\n",
        "(x_train, y_train), (x_val, y_val) = keras.datasets.imdb.load_data(num_words=vocab_size)\n",
        "print(len(x_train), \"Training sequences\")\n",
        "print(len(x_val), \"Validation sequences\")\n",
        "x_train = keras.preprocessing.sequence.pad_sequences(x_train, maxlen=maxlen)\n",
        "x_val = keras.preprocessing.sequence.pad_sequences(x_val, maxlen=maxlen)"
      ],
      "execution_count": 4,
      "outputs": [
        {
          "output_type": "stream",
          "text": [
            "Downloading data from https://storage.googleapis.com/tensorflow/tf-keras-datasets/imdb.npz\n",
            "17465344/17464789 [==============================] - 0s 0us/step\n"
          ],
          "name": "stdout"
        },
        {
          "output_type": "stream",
          "text": [
            "<string>:6: VisibleDeprecationWarning:\n",
            "\n",
            "Creating an ndarray from ragged nested sequences (which is a list-or-tuple of lists-or-tuples-or ndarrays with different lengths or shapes) is deprecated. If you meant to do this, you must specify 'dtype=object' when creating the ndarray.\n",
            "\n",
            "/usr/local/lib/python3.7/dist-packages/tensorflow/python/keras/datasets/imdb.py:159: VisibleDeprecationWarning:\n",
            "\n",
            "Creating an ndarray from ragged nested sequences (which is a list-or-tuple of lists-or-tuples-or ndarrays with different lengths or shapes) is deprecated. If you meant to do this, you must specify 'dtype=object' when creating the ndarray.\n",
            "\n",
            "/usr/local/lib/python3.7/dist-packages/tensorflow/python/keras/datasets/imdb.py:160: VisibleDeprecationWarning:\n",
            "\n",
            "Creating an ndarray from ragged nested sequences (which is a list-or-tuple of lists-or-tuples-or ndarrays with different lengths or shapes) is deprecated. If you meant to do this, you must specify 'dtype=object' when creating the ndarray.\n",
            "\n"
          ],
          "name": "stderr"
        },
        {
          "output_type": "stream",
          "text": [
            "25000 Training sequences\n",
            "25000 Validation sequences\n"
          ],
          "name": "stdout"
        }
      ]
    },
    {
      "cell_type": "markdown",
      "metadata": {
        "id": "2hmo4WXJ6Um9"
      },
      "source": [
        "## Transformer function"
      ]
    },
    {
      "cell_type": "code",
      "metadata": {
        "id": "-27-HOOg6Um9"
      },
      "source": [
        "\n",
        "\n",
        "from IPython.utils import io\n",
        "\n",
        "\n",
        "def transformerFit(X):\n",
        "\n",
        "    print(\"input is:\",X)\n",
        "    embed_dim = int((float(X[0])))\n",
        "    num_heads = int((float(X[1])))\n",
        "    ff_dim = int((float(X[2])))\n",
        "\n",
        "    if embed_dim == 0 or num_heads == 0 or ff_dim == 0 :\n",
        "      return [10,50]\n",
        "\n",
        "    print(\"Variables are:\",embed_dim ,num_heads,ff_dim)\n",
        "\n",
        "    with io.capture_output() as captured:\n",
        "\n",
        "      inputs = layers.Input(shape=(maxlen,))\n",
        "      embedding_layer = TokenAndPositionEmbedding(maxlen, vocab_size, embed_dim)\n",
        "      x = embedding_layer(inputs)\n",
        "      transformer_block = TransformerBlock(embed_dim, num_heads, ff_dim)\n",
        "      x = transformer_block(x)\n",
        "      x = layers.GlobalAveragePooling1D()(x)\n",
        "      x = layers.Dropout(0.1)(x)\n",
        "      x = layers.Dense(20, activation=\"relu\")(x)\n",
        "      x = layers.Dropout(0.1)(x)\n",
        "      outputs = layers.Dense(2, activation=\"softmax\")(x)\n",
        "\n",
        "      model = keras.Model(inputs=inputs, outputs=outputs)\n",
        "\n",
        "\n",
        "\n",
        "      model.compile(\"adam\", \"sparse_categorical_crossentropy\", metrics=[\"accuracy\"])\n",
        "      batch = 32\n",
        "      import time\n",
        "\n",
        "\n",
        "      history = model.fit(\n",
        "          x_train, y_train, batch_size=batch, epochs=2, verbose=0\n",
        "      )\n",
        "\n",
        "\n",
        "      start = time.time()\n",
        "\n",
        "      results = model.evaluate(x_val, y_val, batch_size=batch)\n",
        " \n",
        "    \n",
        "    end = time.time()\n",
        "    latency = end - start\n",
        "    if results[1]<0.7:\n",
        "      latency = latency*1.5\n",
        "    print(\"latency, test acc:\", latency, 100-(results[1]*100))\n",
        "    return [latency, 100-(results[1]*100)]"
      ],
      "execution_count": 6,
      "outputs": []
    },
    {
      "cell_type": "markdown",
      "metadata": {
        "id": "BsevvuRMlNpi"
      },
      "source": [
        "# **Optimization**"
      ]
    },
    {
      "cell_type": "markdown",
      "metadata": {
        "id": "YVtZZApjFtSE"
      },
      "source": [
        "## **EncoderDecoder Block**"
      ]
    },
    {
      "cell_type": "code",
      "metadata": {
        "id": "Sn8-3adrNXjo"
      },
      "source": [
        "from numpy import random\n",
        "\n",
        "\n",
        "class EncoderDecoder:\n",
        "  def __init__(self, decimal_rep, binary_rep):\n",
        "    self.decimal_rep = np.array(decimal_rep)\n",
        "    self.binary_rep = np.array(binary_rep)\n",
        "\n",
        "  def encode(self,row):\n",
        "    np.array(row)\n",
        "    for i,r in enumerate(self.decimal_rep):\n",
        "      if np.array_equal(r,row):\n",
        "        return self.binary_rep[i]\n",
        "    return self.binary_rep[random.randint(len(self.binary_rep))]\n",
        "  \n",
        "  def decode(self,row):\n",
        "    np.array(row)\n",
        "    for i,r in enumerate(self.binary_rep):\n",
        "      \n",
        "      if np.array_equal(r,row):\n",
        "        return self.decimal_rep[i]\n",
        "    return self.decimal_rep[random.randint(len(self.decimal_rep))]\n",
        "\n",
        "  def getDecimal(self):\n",
        "    return self.decimal_rep\n",
        "\n",
        "  def getBinary(self):\n",
        "    return self.binary_rep\n",
        "\n",
        "  def setDecimal(self,inp):\n",
        "    self.decimal_rep = inp\n",
        "\n",
        "  def setBinary(self,inp):\n",
        "   self.binary_rep = inp\n",
        "\n",
        "\n"
      ],
      "execution_count": 8,
      "outputs": []
    },
    {
      "cell_type": "markdown",
      "metadata": {
        "id": "Swp_nYH1Gh7Y"
      },
      "source": [
        "## **Function definitions**"
      ]
    },
    {
      "cell_type": "code",
      "metadata": {
        "colab": {
          "base_uri": "https://localhost:8080/"
        },
        "id": "LT4eBoP2XkXW",
        "outputId": "96b08887-92d3-41bf-df05-135b5368e6c1"
      },
      "source": [
        "\n",
        "\n",
        "def bitEncoder(var):\n",
        "  lenght = len(var)\n",
        "  encoded = []\n",
        "  for i,v in enumerate(var):\n",
        "      encoded.append(np.binary_repr(i, width=math.ceil(np.log2(lenght))))\n",
        "  return encoded\n",
        "\n",
        "def bitDecoder(var):\n",
        "  lenght = len(var)\n",
        "  decoded = []\n",
        "  for i,v in enumerate(var):\n",
        "      decoded.append(np.base_repr(i, 10))\n",
        "  print( decoded)\n",
        "\n",
        "bitEncoder(embed_dim)\n",
        "\n",
        "\n",
        "def sample(chromosome, sample_size):\n",
        "    idx = np.random.randint(low=0, high=chromosome.shape[0], size=sample_size)\n",
        "    initial_population = []\n",
        "    \n",
        "    for i in idx:\n",
        "        # print(\"Selected samples are:\",chromosome[i])\n",
        "        fit = fitnessFunction(chromosome[i])\n",
        "        print(\"############ FIT\",fit)\n",
        "        initial_population.append(list(np.append(chromosome[i],fit)))\n",
        "    initial_population = np.asarray(initial_population)\n",
        "    # print(initial_population)\n",
        "    return initial_population\n",
        "\n",
        "\n",
        "def getFitness(chromosome):\n",
        "    initial_population = [] \n",
        "    for i in range(len(chromosome)):\n",
        "        fit = fitnessFunction(chromosome[i])\n",
        "        initial_population.append(list(np.append(chromosome[i],fit)))\n",
        "    initial_population = np.asarray(initial_population)\n",
        "    return initial_population\n",
        "\n",
        "\n",
        "\n",
        "def sortSelect(population, percentage, isMO = True):\n",
        "    X_raw = pd.DataFrame(population)\n",
        "    X_raw = X_raw.drop_duplicates()\n",
        "    width = population.shape[1]-1\n",
        " \n",
        "    if (not isMO):\n",
        "      X_raw = X_raw.sort_values(by=[population.shape[1]-1])\n",
        "\n",
        "      X_raw = X_raw.drop(columns=[width]).values\n",
        "      slice_ = percentage#math.floor(population.shape[0]*percentage)\n",
        "      top_pop = X_raw[:slice_]\n",
        "\n",
        "    else:\n",
        "   \n",
        "      slice_ = percentage#math.floor(population.shape[0]*percentage)\n",
        "      # print(X_raw)\n",
        "      topGenes, pareto = NDS(X_raw,slice_)\n",
        "      # print(topGenes)\n",
        "      X_raw = pd.DataFrame(topGenes)\n",
        "      # print(\"shape is\",X_raw.values.shape)\n",
        "      X_raw = X_raw.drop(columns=[width])\n",
        " \n",
        "      X_raw = X_raw.drop(columns=[width-1]).values\n",
        " \n",
        "      top_pop = X_raw\n",
        "      \n",
        "\n",
        "    return top_pop,pareto \n",
        "\n",
        "def binaryEncoder(chrom):\n",
        "    pop = []   \n",
        "    for n in chrom:\n",
        "        arr = []\n",
        "        bin = data.encode(n)\n",
        "        for item in bin:\n",
        "          digits =  [x for x in str(item)]\n",
        "          arr = np.append(arr,digits)\n",
        "        pop.append(list(arr))\n",
        "    return pop\n",
        "\n",
        "\n",
        "def seperator(stringIn,NUM_VARIABLES,VAR_SIZE):\n",
        "  tmp = []\n",
        "  for i in range(NUM_VARIABLES):\n",
        "    tmp.append( [''.join(stringIn[VAR_SIZE*i:VAR_SIZE*i+VAR_SIZE])])\n",
        "  return([j for sub in tmp for j in sub])\n"
      ],
      "execution_count": 9,
      "outputs": [
        {
          "output_type": "execute_result",
          "data": {
            "text/plain": [
              "['000', '001', '010', '011', '100', '101', '110', '111']"
            ]
          },
          "metadata": {
            "tags": []
          },
          "execution_count": 9
        }
      ]
    },
    {
      "cell_type": "markdown",
      "metadata": {
        "id": "R-LzdBaeGo-z"
      },
      "source": [
        "# **Non dominated sorting**"
      ]
    },
    {
      "cell_type": "code",
      "metadata": {
        "id": "fBQZxMtFFg0F"
      },
      "source": [
        "def non_dominated_sorting_algorithm(values1, values2):\n",
        "    # print(\"valu1 and 2\",values1, values2)\n",
        "    S=[[] for i in range(0,len(values1))]\n",
        "    front = [[]]\n",
        "    n=[0 for i in range(0,len(values1))]\n",
        "    rank = [0 for i in range(0, len(values1))]\n",
        "\n",
        "    for p in range(0,len(values1)):\n",
        "        S[p]=[]\n",
        "        n[p]=0\n",
        "        for q in range(0, len(values1)):\n",
        "            if (values1[p] < values1[q] and values2[p] < values2[q]) or (values1[p] <= values1[q] and values2[p] < values2[q]) or (values1[p] < values1[q] and values2[p] <= values2[q]):\n",
        "                if q not in S[p]:\n",
        "                    S[p].append(q)\n",
        "            elif (values1[q] < values1[p] and values2[q] < values2[p]) or (values1[q] <= values1[p] and values2[q] < values2[p]) or (values1[q] < values1[p] and values2[q] <= values2[p]):\n",
        "                n[p] = n[p] + 1\n",
        "        if n[p]==0:\n",
        "            rank[p] = 0\n",
        "            if p not in front[0]:\n",
        "                front[0].append(p)\n",
        "    i = 0\n",
        "    while(front[i] != []):\n",
        "        Q=[]\n",
        "        for p in front[i]:\n",
        "            for q in S[p]:\n",
        "                n[q] =n[q] - 1\n",
        "                if( n[q]==0):\n",
        "                    rank[q]=i+1\n",
        "                    if q not in Q:\n",
        "                        Q.append(q)\n",
        "        i = i+1\n",
        "        front.append(Q)\n",
        "    del front[len(front)-1]\n",
        "    return front\n",
        "\n",
        "\n",
        "\n",
        "pareto_fronts = []\n",
        "\n",
        "def NDS(X, slice):\n",
        "  X = X.values\n",
        "\n",
        "  width = X.shape[1]-1\n",
        "  idx = non_dominated_sorting_algorithm(X[:,width-1],X[:,width])\n",
        "  \n",
        "  # print(X)\n",
        "  new_pop = []#np.empty([slice,X.shape[1]])\n",
        "  cnt = 0\n",
        "  pareto = X[list(idx[0]),:]\n",
        "  pareto_fronts.append(pareto)\n",
        "  print(\"front is\", pareto)\n",
        "  for front in idx:\n",
        "    for i in front:\n",
        "      if cnt < slice:\n",
        "        # print(X[i])\n",
        "        new_pop.append(list(X[i]))\n",
        "  new_pop = np.array(new_pop)\n",
        "  # print(new_pop)\n",
        "  return new_pop,pareto"
      ],
      "execution_count": 11,
      "outputs": []
    },
    {
      "cell_type": "code",
      "metadata": {
        "colab": {
          "base_uri": "https://localhost:8080/"
        },
        "id": "qscuIoARFi7W",
        "outputId": "28ec793d-eb8f-45c9-c56d-4a7a1be725ab"
      },
      "source": [
        "values1 = ['1','6','3','4']\n",
        "values2 = ['5','6','7','8']\n",
        "non_dominated_sorting_algorithm(values1, values2)"
      ],
      "execution_count": null,
      "outputs": [
        {
          "output_type": "execute_result",
          "data": {
            "text/plain": [
              "[[0], [1, 2], [3]]"
            ]
          },
          "metadata": {
            "tags": []
          },
          "execution_count": 96
        }
      ]
    },
    {
      "cell_type": "code",
      "metadata": {
        "id": "zqdeWCfm_ZtV"
      },
      "source": [
        "!apt install libgraphviz-dev\n",
        "!pip install pygraphviz"
      ],
      "execution_count": null,
      "outputs": []
    },
    {
      "cell_type": "markdown",
      "metadata": {
        "id": "82bBPYg4G3Na"
      },
      "source": [
        "# **Optimizer**"
      ]
    },
    {
      "cell_type": "code",
      "metadata": {
        "id": "0YVU1O_I-i8W"
      },
      "source": [
        "\n",
        "from pomegranate import BayesianNetwork\n",
        "\n",
        "\n",
        "\n",
        "\n",
        "NUM_VARIABLES = 2\n",
        "VAR_SIZE = 3\n",
        "\n",
        "variables = np.array(\n",
        "  np.meshgrid(embed_dim, num_heads, ff_dim)).T.reshape(-1, 3)\n",
        "\n",
        "\n",
        "\n",
        "\n",
        "NUM_VARIABLES = 3\n",
        "\n",
        "\n",
        "\n",
        "embed_dim = np.array(['2','4','6','8','10','16','32','64'])\n",
        "num_heads = np.array(['1','2','3','4'])\n",
        "ff_dim = np.array(['2','4','6','8','10','16','32','64'])\n",
        "\n",
        "var1_bin = bitEncoder(embed_dim)\n",
        "var2_bin = bitEncoder(num_heads)\n",
        "var3_bin = bitEncoder(ff_dim)\n",
        "\n",
        "\n",
        "\n",
        "variables = np.array(\n",
        "  np.meshgrid(embed_dim, num_heads, ff_dim)).T.reshape(-1, NUM_VARIABLES)\n",
        "variables_bin = np.array(\n",
        "  np.meshgrid(var1_bin, var2_bin, var3_bin)).T.reshape(-1, NUM_VARIABLES)\n",
        "\n",
        "data = EncoderDecoder(variables,variables_bin)\n",
        "\n",
        "####################################################\n",
        "\n",
        "\n",
        "def bayesianOptimizer(variables,algorithm='greedy' ,POP_SIZE=40,gens=4):\n",
        "    # POP_SIZE = 40\n",
        "    new_pop = variables\n",
        "    population = sample(new_pop, POP_SIZE)\n",
        "    df = pd.DataFrame(population).to_csv(\"gdrive/MyDrive/out.csv\")\n",
        "    # population = pd.read_csv(\"gdrive/MyDrive/out.csv\").to_numpy()[:,1:6]\n",
        "    print(population)\n",
        "    population[:,4] = 100+100*population[:,4]\n",
        "    print(population)\n",
        "    paretoFront = []\n",
        "    chrom,pareto_ = sortSelect(population,int(POP_SIZE*0.5),True)\n",
        "    bbb = pd.DataFrame(chrom).to_csv(\"chrom.csv\")\n",
        "    POP_SIZE = int(POP_SIZE*0.5)\n",
        "    # print(chrom)\n",
        "    tic = time.time()\n",
        "\n",
        "    \n",
        "\n",
        "    for generation in range(gens):\n",
        "        print(\"Generation:\",generation, \"...\")\n",
        "        X = binaryEncoder(chrom)\n",
        "\n",
        "        model = BayesianNetwork.from_samples(X, algorithm=algorithm) \n",
        "        model.plot()\n",
        "        p = model.log_probability(X).sum()\n",
        "\n",
        "        BO_size = int(POP_SIZE*0.7)\n",
        "        sampled = model.sample(BO_size)\n",
        "        child = []\n",
        "        for c in sampled: \n",
        "          child.append(list(data.decode(seperator(c,NUM_VARIABLES,VAR_SIZE))))\n",
        "        # print(child)\n",
        "        print(len(child))\n",
        "        old_size = POP_SIZE - BO_size\n",
        "        idx = np.random.randint(low=0, high=variables.shape[0], size=old_size-int(old_size*0.75))\n",
        "\n",
        "        # print(\"*****\",chrom)\n",
        "        new_pop =  np.concatenate((np.array(child),chrom[0:int(old_size)]), axis=0)\n",
        "        ft = getFitness(new_pop)\n",
        "        if generation < gens-1:\n",
        "          chrom,pareto = sortSelect(ft,int(POP_SIZE*0.5),True) \n",
        "        paretoFront.append(pareto)\n",
        "\n",
        "        print(len(new_pop))\n",
        "        \n",
        "\n",
        "\n",
        "    latency = time.time() - tic\n",
        "    print(\"total time is\",latency)\n",
        "    return chrom,ft,paretoFront\n",
        "f1 = []\n",
        "f2 = []\n",
        "\n"
      ],
      "execution_count": 15,
      "outputs": []
    },
    {
      "cell_type": "markdown",
      "metadata": {
        "id": "Do9Q_uoAG7A9"
      },
      "source": [
        "**Greedy heuristic**"
      ]
    },
    {
      "cell_type": "code",
      "metadata": {
        "colab": {
          "base_uri": "https://localhost:8080/",
          "height": 1000
        },
        "id": "FCvuTknTpI8a",
        "outputId": "218c9ccf-9881-4e83-de1c-4f210d6a8120"
      },
      "source": [
        "def fitnessFunction (X):\n",
        "  return transformerFit(X)\n",
        "chrom,ft,paretoFront = bayesianOptimizer(variables,algorithm='greedy' ,POP_SIZE=30,gens=4)\n",
        "bbb = pd.DataFrame(ft).to_csv(\"gdrive/MyDrive/fit_greedy_4_3.csv\")"
      ],
      "execution_count": 23,
      "outputs": [
        {
          "output_type": "stream",
          "text": [
            "[[ 8.          4.          4.          2.72891021 12.79199719]\n",
            " [10.          4.         32.          2.71375394 12.56399751]\n",
            " [ 4.          3.          4.          2.48984957 12.52400279]\n",
            " [16.          2.          4.          2.48690081 12.60399818]\n",
            " [ 8.          1.         32.          2.2748208  12.81599998]\n",
            " [16.          1.          8.          2.46327949 12.4119997 ]\n",
            " [32.          1.         10.          2.4555335  12.60799766]\n",
            " [32.          2.         64.          2.65657949 12.46799827]\n",
            " [ 8.          4.         10.          2.6352818  12.85600066]\n",
            " [10.          2.         16.          2.42994308 12.41999865]\n",
            " [16.          4.          2.          2.77336669 13.40799928]\n",
            " [ 6.          2.         64.          2.37282181 12.68000007]\n",
            " [32.          3.         10.          2.78967023 12.63599992]\n",
            " [64.          3.          2.          3.08817863 12.86399961]\n",
            " [ 6.          4.         16.          2.59037018 12.48000264]\n",
            " [64.          3.         10.          3.08473492 12.63999939]\n",
            " [ 8.          1.         64.          2.24975586 13.09599876]\n",
            " [64.          1.          8.          2.70165586 13.22000027]\n",
            " [32.          3.          2.          2.78450751 12.66000271]\n",
            " [16.          3.          8.          2.63974595 12.79199719]\n",
            " [32.          3.         16.          2.99148655 12.80400157]\n",
            " [32.          1.          8.          2.43948507 12.73199916]\n",
            " [10.          1.          8.          2.38461232 12.66400218]\n",
            " [64.          1.         32.          2.73743105 13.01599741]\n",
            " [ 4.          2.          6.          2.34352803 12.54000068]\n",
            " [10.          1.          6.          2.33607626 12.30400205]\n",
            " [ 6.          2.         32.          2.35843372 12.64799833]\n",
            " [64.          4.          8.          3.29266739 12.74799705]\n",
            " [16.          3.         64.          2.63324261 12.8000021 ]\n",
            " [64.          3.         64.          3.13292265 12.63599992]]\n",
            "[[8.00000000e+00 4.00000000e+00 4.00000000e+00 2.72891021e+00\n",
            "  1.37919972e+03]\n",
            " [1.00000000e+01 4.00000000e+00 3.20000000e+01 2.71375394e+00\n",
            "  1.35639975e+03]\n",
            " [4.00000000e+00 3.00000000e+00 4.00000000e+00 2.48984957e+00\n",
            "  1.35240028e+03]\n",
            " [1.60000000e+01 2.00000000e+00 4.00000000e+00 2.48690081e+00\n",
            "  1.36039982e+03]\n",
            " [8.00000000e+00 1.00000000e+00 3.20000000e+01 2.27482080e+00\n",
            "  1.38160000e+03]\n",
            " [1.60000000e+01 1.00000000e+00 8.00000000e+00 2.46327949e+00\n",
            "  1.34119997e+03]\n",
            " [3.20000000e+01 1.00000000e+00 1.00000000e+01 2.45553350e+00\n",
            "  1.36079977e+03]\n",
            " [3.20000000e+01 2.00000000e+00 6.40000000e+01 2.65657949e+00\n",
            "  1.34679983e+03]\n",
            " [8.00000000e+00 4.00000000e+00 1.00000000e+01 2.63528180e+00\n",
            "  1.38560007e+03]\n",
            " [1.00000000e+01 2.00000000e+00 1.60000000e+01 2.42994308e+00\n",
            "  1.34199986e+03]\n",
            " [1.60000000e+01 4.00000000e+00 2.00000000e+00 2.77336669e+00\n",
            "  1.44079993e+03]\n",
            " [6.00000000e+00 2.00000000e+00 6.40000000e+01 2.37282181e+00\n",
            "  1.36800001e+03]\n",
            " [3.20000000e+01 3.00000000e+00 1.00000000e+01 2.78967023e+00\n",
            "  1.36359999e+03]\n",
            " [6.40000000e+01 3.00000000e+00 2.00000000e+00 3.08817863e+00\n",
            "  1.38639996e+03]\n",
            " [6.00000000e+00 4.00000000e+00 1.60000000e+01 2.59037018e+00\n",
            "  1.34800026e+03]\n",
            " [6.40000000e+01 3.00000000e+00 1.00000000e+01 3.08473492e+00\n",
            "  1.36399994e+03]\n",
            " [8.00000000e+00 1.00000000e+00 6.40000000e+01 2.24975586e+00\n",
            "  1.40959988e+03]\n",
            " [6.40000000e+01 1.00000000e+00 8.00000000e+00 2.70165586e+00\n",
            "  1.42200003e+03]\n",
            " [3.20000000e+01 3.00000000e+00 2.00000000e+00 2.78450751e+00\n",
            "  1.36600027e+03]\n",
            " [1.60000000e+01 3.00000000e+00 8.00000000e+00 2.63974595e+00\n",
            "  1.37919972e+03]\n",
            " [3.20000000e+01 3.00000000e+00 1.60000000e+01 2.99148655e+00\n",
            "  1.38040016e+03]\n",
            " [3.20000000e+01 1.00000000e+00 8.00000000e+00 2.43948507e+00\n",
            "  1.37319992e+03]\n",
            " [1.00000000e+01 1.00000000e+00 8.00000000e+00 2.38461232e+00\n",
            "  1.36640022e+03]\n",
            " [6.40000000e+01 1.00000000e+00 3.20000000e+01 2.73743105e+00\n",
            "  1.40159974e+03]\n",
            " [4.00000000e+00 2.00000000e+00 6.00000000e+00 2.34352803e+00\n",
            "  1.35400007e+03]\n",
            " [1.00000000e+01 1.00000000e+00 6.00000000e+00 2.33607626e+00\n",
            "  1.33040020e+03]\n",
            " [6.00000000e+00 2.00000000e+00 3.20000000e+01 2.35843372e+00\n",
            "  1.36479983e+03]\n",
            " [6.40000000e+01 4.00000000e+00 8.00000000e+00 3.29266739e+00\n",
            "  1.37479970e+03]\n",
            " [1.60000000e+01 3.00000000e+00 6.40000000e+01 2.63324261e+00\n",
            "  1.38000021e+03]\n",
            " [6.40000000e+01 3.00000000e+00 6.40000000e+01 3.13292265e+00\n",
            "  1.36359999e+03]]\n",
            "front is [[8.00000000e+00 1.00000000e+00 3.20000000e+01 2.27482080e+00\n",
            "  1.38160000e+03]\n",
            " [8.00000000e+00 1.00000000e+00 6.40000000e+01 2.24975586e+00\n",
            "  1.40959988e+03]\n",
            " [1.00000000e+01 1.00000000e+00 6.00000000e+00 2.33607626e+00\n",
            "  1.33040020e+03]]\n",
            "Generation: 0 ...\n",
            "10\n",
            "input is: ['2' '3' '16']\n",
            "Variables are: 2 3 16\n"
          ],
          "name": "stdout"
        },
        {
          "output_type": "stream",
          "text": [
            "/usr/local/lib/python3.7/dist-packages/numpy/core/numeric.py:2453: FutureWarning:\n",
            "\n",
            "elementwise comparison failed; returning scalar instead, but in the future will perform elementwise comparison\n",
            "\n"
          ],
          "name": "stderr"
        },
        {
          "output_type": "stream",
          "text": [
            "latency, test acc: 3.666855812072754 50.0\n",
            "input is: ['2' '4' '10']\n",
            "Variables are: 2 4 10\n",
            "latency, test acc: 3.873208522796631 49.36000108718872\n",
            "input is: ['64' '3' '8']\n",
            "Variables are: 64 3 8\n",
            "latency, test acc: 3.1957972049713135 12.572002410888672\n",
            "input is: ['4' '1' '16']\n",
            "Variables are: 4 1 16\n",
            "latency, test acc: 2.2957375049591064 12.68799901008606\n",
            "input is: ['6' '1' '10']\n",
            "Variables are: 6 1 10\n",
            "latency, test acc: 2.559490203857422 12.352001667022705\n",
            "input is: ['64' '3' '16']\n",
            "Variables are: 64 3 16\n",
            "latency, test acc: 3.127427816390991 13.248002529144287\n",
            "input is: ['6' '4' '16']\n",
            "Variables are: 6 4 16\n",
            "latency, test acc: 2.660346269607544 12.388002872467041\n",
            "input is: ['16' '1' '64']\n",
            "Variables are: 16 1 64\n",
            "latency, test acc: 2.4138033390045166 12.787997722625732\n",
            "input is: ['10' '4' '8']\n",
            "Variables are: 10 4 8\n",
            "latency, test acc: 2.75557279586792 12.624001502990723\n",
            "input is: ['10' '2' '10']\n",
            "Variables are: 10 2 10\n",
            "latency, test acc: 2.4753379821777344 12.41999864578247\n",
            "input is: ['8.0' '1.0' '32.0']\n",
            "Variables are: 8 1 32\n",
            "latency, test acc: 2.2810590267181396 12.431997060775757\n",
            "input is: ['8.0' '1.0' '64.0']\n",
            "Variables are: 8 1 64\n",
            "latency, test acc: 2.3062140941619873 12.655997276306152\n",
            "input is: ['10.0' '1.0' '6.0']\n",
            "Variables are: 10 1 6\n",
            "latency, test acc: 2.391921281814575 12.624001502990723\n",
            "input is: ['16.0' '1.0' '8.0']\n",
            "Variables are: 16 1 8\n",
            "latency, test acc: 2.357889175415039 12.616002559661865\n",
            "input is: ['10.0' '2.0' '16.0']\n",
            "Variables are: 10 2 16\n",
            "latency, test acc: 2.4767842292785645 12.944000959396362\n",
            "front is [['6' '1' '10' '2.559490203857422' '12.352001667022705']\n",
            " ['10' '2' '10' '2.4753379821777344' '12.41999864578247']\n",
            " ['8.0' '1.0' '32.0' '2.2810590267181396' '12.431997060775757']]\n",
            "15\n",
            "Generation: 1 ...\n",
            "10\n",
            "input is: ['10' '1' '10']\n",
            "Variables are: 10 1 10\n",
            "latency, test acc: 2.371508836746216 13.099998235702515\n",
            "input is: ['2' '1' '16']\n",
            "Variables are: 2 1 16\n",
            "latency, test acc: 3.414375901222229 50.0\n",
            "input is: ['4' '1' '8']\n",
            "Variables are: 4 1 8\n",
            "latency, test acc: 2.243791103363037 12.655997276306152\n",
            "input is: ['2' '3' '32']\n",
            "Variables are: 2 3 32\n",
            "latency, test acc: 3.708895683288574 49.7439980506897\n",
            "input is: ['64' '4' '8']\n",
            "Variables are: 64 4 8\n",
            "latency, test acc: 3.307950019836426 12.915998697280884\n",
            "input is: ['8' '3' '64']\n",
            "Variables are: 8 3 64\n",
            "latency, test acc: 2.5042192935943604 12.327998876571655\n",
            "input is: ['10' '4' '64']\n",
            "Variables are: 10 4 64\n",
            "latency, test acc: 2.8026719093322754 12.231999635696411\n",
            "input is: ['4' '4' '8']\n",
            "Variables are: 4 4 8\n",
            "latency, test acc: 2.6671292781829834 12.371999025344849\n",
            "input is: ['6' '2' '32']\n",
            "Variables are: 6 2 32\n",
            "latency, test acc: 2.443857192993164 12.588000297546387\n",
            "input is: ['4' '3' '16']\n",
            "Variables are: 4 3 16\n",
            "latency, test acc: 2.5034821033477783 12.655997276306152\n",
            "input is: ['6' '1' '10']\n",
            "Variables are: 6 1 10\n",
            "latency, test acc: 2.2733733654022217 13.256001472473145\n",
            "input is: ['10' '2' '10']\n",
            "Variables are: 10 2 10\n",
            "latency, test acc: 2.4676663875579834 12.44800090789795\n",
            "input is: ['8.0' '1.0' '32.0']\n",
            "Variables are: 8 1 32\n",
            "latency, test acc: 2.2435302734375 12.892001867294312\n",
            "input is: ['6' '4' '16']\n",
            "Variables are: 6 4 16\n",
            "latency, test acc: 2.611447811126709 12.628000974655151\n",
            "input is: ['4' '1' '16']\n",
            "Variables are: 4 1 16\n",
            "latency, test acc: 2.241877317428589 12.63200044631958\n",
            "front is [['8' '3' '64' '2.5042192935943604' '12.327998876571655']\n",
            " ['10' '4' '64' '2.8026719093322754' '12.231999635696411']\n",
            " ['6' '2' '32' '2.443857192993164' '12.588000297546387']\n",
            " ['10' '2' '10' '2.4676663875579834' '12.44800090789795']\n",
            " ['4' '1' '16' '2.241877317428589' '12.63200044631958']]\n",
            "15\n",
            "Generation: 2 ...\n",
            "10\n",
            "input is: ['8' '1' '10']\n",
            "Variables are: 8 1 10\n",
            "latency, test acc: 2.2673869132995605 12.771999835968018\n",
            "input is: ['10' '2' '4']\n",
            "Variables are: 10 2 4\n",
            "latency, test acc: 2.4550278186798096 13.095998764038086\n",
            "input is: ['8' '2' '32']\n",
            "Variables are: 8 2 32\n",
            "latency, test acc: 2.3972268104553223 12.603998184204102\n",
            "input is: ['32' '2' '32']\n",
            "Variables are: 32 2 32\n",
            "latency, test acc: 2.604702949523926 12.544000148773193\n",
            "input is: ['64' '2' '32']\n",
            "Variables are: 64 2 32\n",
            "latency, test acc: 2.8699870109558105 12.747997045516968\n",
            "input is: ['10' '4' '2']\n",
            "Variables are: 10 4 2\n",
            "latency, test acc: 2.7352867126464844 12.727999687194824\n",
            "input is: ['6' '4' '2']\n",
            "Variables are: 6 4 2\n",
            "latency, test acc: 2.621328592300415 12.52400279045105\n",
            "input is: ['6' '2' '16']\n",
            "Variables are: 6 2 16\n",
            "latency, test acc: 2.3907694816589355 12.5760018825531\n",
            "input is: ['10' '4' '8']\n",
            "Variables are: 10 4 8\n",
            "latency, test acc: 2.7233729362487793 12.856000661849976\n",
            "input is: ['64' '4' '2']\n",
            "Variables are: 64 4 2\n",
            "latency, test acc: 3.32407546043396 13.099998235702515\n",
            "input is: ['8' '3' '64']\n",
            "Variables are: 8 3 64\n",
            "latency, test acc: 2.5748119354248047 13.116002082824707\n",
            "input is: ['10' '4' '64']\n",
            "Variables are: 10 4 64\n",
            "latency, test acc: 2.742079973220825 12.815999984741211\n",
            "input is: ['6' '2' '32']\n",
            "Variables are: 6 2 32\n",
            "latency, test acc: 2.451038122177124 12.55599856376648\n",
            "input is: ['10' '2' '10']\n",
            "Variables are: 10 2 10\n",
            "latency, test acc: 2.438394546508789 12.143999338150024\n",
            "input is: ['4' '1' '16']\n",
            "Variables are: 4 1 16\n",
            "latency, test acc: 2.270751953125 12.400001287460327\n",
            "front is [['8' '1' '10' '2.2673869132995605' '12.771999835968018']\n",
            " ['10' '2' '10' '2.438394546508789' '12.143999338150024']\n",
            " ['4' '1' '16' '2.270751953125' '12.400001287460327']]\n",
            "15\n",
            "Generation: 3 ...\n",
            "10\n",
            "input is: ['16' '3' '64']\n",
            "Variables are: 16 3 64\n",
            "latency, test acc: 2.9050614833831787 12.651997804641724\n",
            "input is: ['64' '2' '2']\n",
            "Variables are: 64 2 2\n",
            "latency, test acc: 2.910506248474121 13.080000877380371\n",
            "input is: ['4' '2' '64']\n",
            "Variables are: 4 2 64\n",
            "latency, test acc: 2.3562886714935303 12.999999523162842\n",
            "input is: ['4' '2' '4']\n",
            "Variables are: 4 2 4\n",
            "latency, test acc: 2.3208060264587402 12.431997060775757\n",
            "input is: ['16' '2' '32']\n",
            "Variables are: 16 2 32\n",
            "latency, test acc: 2.8137481212615967 12.783998250961304\n",
            "input is: ['64' '3' '2']\n",
            "Variables are: 64 3 2\n",
            "latency, test acc: 3.101975202560425 13.168001174926758\n",
            "input is: ['64' '3' '64']\n",
            "Variables are: 64 3 64\n",
            "latency, test acc: 3.1320862770080566 13.051998615264893\n",
            "input is: ['4' '3' '32']\n",
            "Variables are: 4 3 32\n",
            "latency, test acc: 2.4753918647766113 12.996000051498413\n",
            "input is: ['2' '1' '32']\n",
            "Variables are: 2 1 32\n",
            "latency, test acc: 3.417807698249817 50.0\n",
            "input is: ['2' '1' '10']\n",
            "Variables are: 2 1 10\n",
            "latency, test acc: 3.324473261833191 50.0\n",
            "input is: ['8' '1' '10']\n",
            "Variables are: 8 1 10\n",
            "latency, test acc: 2.282250165939331 12.371999025344849\n",
            "input is: ['10' '2' '10']\n",
            "Variables are: 10 2 10\n",
            "latency, test acc: 2.4853944778442383 12.595999240875244\n",
            "input is: ['4' '1' '16']\n",
            "Variables are: 4 1 16\n",
            "latency, test acc: 2.2536604404449463 12.756001949310303\n",
            "input is: ['32' '2' '32']\n",
            "Variables are: 32 2 32\n",
            "latency, test acc: 2.603775978088379 12.727999687194824\n",
            "input is: ['6' '4' '2']\n",
            "Variables are: 6 4 2\n",
            "latency, test acc: 2.651258945465088 12.540000677108765\n",
            "15\n",
            "total time is 993.2579147815704\n"
          ],
          "name": "stdout"
        },
        {
          "output_type": "display_data",
          "data": {
            "image/png": "[encoded data removed]",
            "text/plain": [
              "<Figure size 432x288 with 1 Axes>"
            ]
          },
          "metadata": {
            "tags": [],
            "needs_background": "light"
          }
        }
      ]
    },
    {
      "cell_type": "code",
      "metadata": {
        "id": "Mj9xtkmm1iUP"
      },
      "source": [
        "# ft = pd.read_csv(\"gdrive/MyDrive/fit_greedy_4_3.csv\").to_numpy()[:,1:6]\n",
        "\n",
        "f1 =list(ft[:,3].astype(float))\n",
        "f2 = list(ft[:,4].astype(float))\n",
        "\n",
        "\n",
        "plt.scatter(list(f2), list(f1), marker='o')\n",
        "f1_ = np.array(f1)\n",
        "f2_ = np.array(f2)\n",
        "idx = non_dominated_sorting_algorithm(f1, f2)\n",
        "print(idx)\n"
      ],
      "execution_count": null,
      "outputs": []
    },
    {
      "cell_type": "code",
      "metadata": {
        "colab": {
          "base_uri": "https://localhost:8080/",
          "height": 423
        },
        "id": "4FIaRwO9-Jgz",
        "outputId": "064b6e20-60bc-4db7-f04a-1354526cd3f1"
      },
      "source": [
        "# sorted_array = an_array[numpy.argsort(an_array[:, 1])]\n",
        "\n",
        "frontx = np.array(f1)\n",
        "fronty = np.array(f2)\n",
        "\n",
        "front = np.array([f1,f2])\n",
        "# pd.DataFrame(front).to_csv(\"front.csv\")\n",
        "\n",
        "f1_ = frontx[list(idx[0])]\n",
        "f2_ = fronty[list(idx[0])]\n",
        "indexs_to_order_by = f1_.argsort()\n",
        "f1_ = f1_[indexs_to_order_by]\n",
        "f2_ = f2_[indexs_to_order_by]\n",
        "\n",
        "front_greedy1 = f1_\n",
        "front_greedy2 = f2_\n",
        "# pd.DataFrame([f1_,f2_]).to_csv(\"front1.csv\")\n",
        "\n",
        "print(front)\n",
        "\n",
        "# plt.ylim(12,15)\n",
        "plt.plot(f2_, f1_, marker='o')\n",
        "\n",
        "\n",
        "f1_ = frontx[list(idx[1])]\n",
        "f2_ = fronty[list(idx[1])]\n",
        "indexs_to_order_by = f1_.argsort()\n",
        "f1_ = f1_[indexs_to_order_by]\n",
        "f2_ = f2_[indexs_to_order_by]\n",
        "plt.plot(f2_, f1_, marker='+')\n",
        "\n",
        "f1_ = frontx[list(idx[2])]\n",
        "f2_ = fronty[list(idx[2])]\n",
        "indexs_to_order_by = f1_.argsort()\n",
        "f1_ = f1_[indexs_to_order_by]\n",
        "f2_ = f2_[indexs_to_order_by]\n",
        "plt.plot(f2_, f1_, marker='^')\n",
        "\n",
        "f1_ = frontx[list(idx[3])]\n",
        "f2_ = fronty[list(idx[3])]\n",
        "indexs_to_order_by = f1_.argsort()\n",
        "f1_ = f1_[indexs_to_order_by]\n",
        "f2_ = f2_[indexs_to_order_by]\n",
        "plt.plot(f2_, f1_, marker='p')\n",
        "plt.legend(['Front 1', 'Front 2', 'Front 3', 'Front 4'], loc='best')\n",
        "plt.ylabel('Latency')\n",
        "plt.xlabel('Classification Error')\n",
        "plt.title('Transformer optimization')"
      ],
      "execution_count": 44,
      "outputs": [
        {
          "output_type": "stream",
          "text": [
            "[[ 2.39063072  3.11641073  2.98046398  2.89342737  3.63758218  2.2805872\n",
            "   3.77264142  2.54137087  2.97999382  2.4607451   2.38651729  2.26373482\n",
            "   2.90440464  2.42222118  2.50330067]\n",
            " [12.7399981  12.8279984  12.50399947 12.72000074 48.65999818 12.84400225\n",
            "  48.61199856 12.62000203 13.07600141 12.81599998 12.49600053 13.08000088\n",
            "  12.67200112 12.59599924 12.38800287]]\n"
          ],
          "name": "stdout"
        },
        {
          "output_type": "execute_result",
          "data": {
            "text/plain": [
              "Text(0.5, 1.0, 'Transformer optimization')"
            ]
          },
          "metadata": {
            "tags": []
          },
          "execution_count": 44
        },
        {
          "output_type": "display_data",
          "data": {
            "image/png": "[encoded data removed]",
            "text/plain": [
              "<Figure size 432x288 with 1 Axes>"
            ]
          },
          "metadata": {
            "tags": [],
            "needs_background": "light"
          }
        }
      ]
    },
    {
      "cell_type": "markdown",
      "metadata": {
        "id": "e8xDeu-hHKup"
      },
      "source": [
        "**Chow-Liu**"
      ]
    },
    {
      "cell_type": "code",
      "metadata": {
        "colab": {
          "base_uri": "https://localhost:8080/",
          "height": 1000
        },
        "id": "cUL8Bgox7c3A",
        "outputId": "eb01f3c4-95eb-4c24-dd44-e55310d9b07d"
      },
      "source": [
        "def fitnessFunction (X):\n",
        "  return transformerFit(X)\n",
        "chrom,ft,paretoFront = bayesianOptimizer(variables,algorithm='chow-liu' ,POP_SIZE=30,gens=4)\n",
        "bbb = pd.DataFrame(ft).to_csv(\"gdrive/MyDrive/‘chowliu’_4_3.csv\")"
      ],
      "execution_count": 32,
      "outputs": [
        {
          "output_type": "stream",
          "text": [
            "[[ 8.          4.          4.          2.72891021 12.79199719]\n",
            " [10.          4.         32.          2.71375394 12.56399751]\n",
            " [ 4.          3.          4.          2.48984957 12.52400279]\n",
            " [16.          2.          4.          2.48690081 12.60399818]\n",
            " [ 8.          1.         32.          2.2748208  12.81599998]\n",
            " [16.          1.          8.          2.46327949 12.4119997 ]\n",
            " [32.          1.         10.          2.4555335  12.60799766]\n",
            " [32.          2.         64.          2.65657949 12.46799827]\n",
            " [ 8.          4.         10.          2.6352818  12.85600066]\n",
            " [10.          2.         16.          2.42994308 12.41999865]\n",
            " [16.          4.          2.          2.77336669 13.40799928]\n",
            " [ 6.          2.         64.          2.37282181 12.68000007]\n",
            " [32.          3.         10.          2.78967023 12.63599992]\n",
            " [64.          3.          2.          3.08817863 12.86399961]\n",
            " [ 6.          4.         16.          2.59037018 12.48000264]\n",
            " [64.          3.         10.          3.08473492 12.63999939]\n",
            " [ 8.          1.         64.          2.24975586 13.09599876]\n",
            " [64.          1.          8.          2.70165586 13.22000027]\n",
            " [32.          3.          2.          2.78450751 12.66000271]\n",
            " [16.          3.          8.          2.63974595 12.79199719]\n",
            " [32.          3.         16.          2.99148655 12.80400157]\n",
            " [32.          1.          8.          2.43948507 12.73199916]\n",
            " [10.          1.          8.          2.38461232 12.66400218]\n",
            " [64.          1.         32.          2.73743105 13.01599741]\n",
            " [ 4.          2.          6.          2.34352803 12.54000068]\n",
            " [10.          1.          6.          2.33607626 12.30400205]\n",
            " [ 6.          2.         32.          2.35843372 12.64799833]\n",
            " [64.          4.          8.          3.29266739 12.74799705]\n",
            " [16.          3.         64.          2.63324261 12.8000021 ]\n",
            " [64.          3.         64.          3.13292265 12.63599992]]\n",
            "[[8.00000000e+00 4.00000000e+00 4.00000000e+00 2.72891021e+00\n",
            "  1.37919972e+03]\n",
            " [1.00000000e+01 4.00000000e+00 3.20000000e+01 2.71375394e+00\n",
            "  1.35639975e+03]\n",
            " [4.00000000e+00 3.00000000e+00 4.00000000e+00 2.48984957e+00\n",
            "  1.35240028e+03]\n",
            " [1.60000000e+01 2.00000000e+00 4.00000000e+00 2.48690081e+00\n",
            "  1.36039982e+03]\n",
            " [8.00000000e+00 1.00000000e+00 3.20000000e+01 2.27482080e+00\n",
            "  1.38160000e+03]\n",
            " [1.60000000e+01 1.00000000e+00 8.00000000e+00 2.46327949e+00\n",
            "  1.34119997e+03]\n",
            " [3.20000000e+01 1.00000000e+00 1.00000000e+01 2.45553350e+00\n",
            "  1.36079977e+03]\n",
            " [3.20000000e+01 2.00000000e+00 6.40000000e+01 2.65657949e+00\n",
            "  1.34679983e+03]\n",
            " [8.00000000e+00 4.00000000e+00 1.00000000e+01 2.63528180e+00\n",
            "  1.38560007e+03]\n",
            " [1.00000000e+01 2.00000000e+00 1.60000000e+01 2.42994308e+00\n",
            "  1.34199986e+03]\n",
            " [1.60000000e+01 4.00000000e+00 2.00000000e+00 2.77336669e+00\n",
            "  1.44079993e+03]\n",
            " [6.00000000e+00 2.00000000e+00 6.40000000e+01 2.37282181e+00\n",
            "  1.36800001e+03]\n",
            " [3.20000000e+01 3.00000000e+00 1.00000000e+01 2.78967023e+00\n",
            "  1.36359999e+03]\n",
            " [6.40000000e+01 3.00000000e+00 2.00000000e+00 3.08817863e+00\n",
            "  1.38639996e+03]\n",
            " [6.00000000e+00 4.00000000e+00 1.60000000e+01 2.59037018e+00\n",
            "  1.34800026e+03]\n",
            " [6.40000000e+01 3.00000000e+00 1.00000000e+01 3.08473492e+00\n",
            "  1.36399994e+03]\n",
            " [8.00000000e+00 1.00000000e+00 6.40000000e+01 2.24975586e+00\n",
            "  1.40959988e+03]\n",
            " [6.40000000e+01 1.00000000e+00 8.00000000e+00 2.70165586e+00\n",
            "  1.42200003e+03]\n",
            " [3.20000000e+01 3.00000000e+00 2.00000000e+00 2.78450751e+00\n",
            "  1.36600027e+03]\n",
            " [1.60000000e+01 3.00000000e+00 8.00000000e+00 2.63974595e+00\n",
            "  1.37919972e+03]\n",
            " [3.20000000e+01 3.00000000e+00 1.60000000e+01 2.99148655e+00\n",
            "  1.38040016e+03]\n",
            " [3.20000000e+01 1.00000000e+00 8.00000000e+00 2.43948507e+00\n",
            "  1.37319992e+03]\n",
            " [1.00000000e+01 1.00000000e+00 8.00000000e+00 2.38461232e+00\n",
            "  1.36640022e+03]\n",
            " [6.40000000e+01 1.00000000e+00 3.20000000e+01 2.73743105e+00\n",
            "  1.40159974e+03]\n",
            " [4.00000000e+00 2.00000000e+00 6.00000000e+00 2.34352803e+00\n",
            "  1.35400007e+03]\n",
            " [1.00000000e+01 1.00000000e+00 6.00000000e+00 2.33607626e+00\n",
            "  1.33040020e+03]\n",
            " [6.00000000e+00 2.00000000e+00 3.20000000e+01 2.35843372e+00\n",
            "  1.36479983e+03]\n",
            " [6.40000000e+01 4.00000000e+00 8.00000000e+00 3.29266739e+00\n",
            "  1.37479970e+03]\n",
            " [1.60000000e+01 3.00000000e+00 6.40000000e+01 2.63324261e+00\n",
            "  1.38000021e+03]\n",
            " [6.40000000e+01 3.00000000e+00 6.40000000e+01 3.13292265e+00\n",
            "  1.36359999e+03]]\n",
            "front is [[8.00000000e+00 1.00000000e+00 3.20000000e+01 2.27482080e+00\n",
            "  1.38160000e+03]\n",
            " [8.00000000e+00 1.00000000e+00 6.40000000e+01 2.24975586e+00\n",
            "  1.40959988e+03]\n",
            " [1.00000000e+01 1.00000000e+00 6.00000000e+00 2.33607626e+00\n",
            "  1.33040020e+03]]\n",
            "Generation: 0 ...\n",
            "10\n",
            "input is: ['64' '2' '64']\n",
            "Variables are: 64 2 64\n"
          ],
          "name": "stdout"
        },
        {
          "output_type": "stream",
          "text": [
            "/usr/local/lib/python3.7/dist-packages/numpy/core/numeric.py:2453: FutureWarning:\n",
            "\n",
            "elementwise comparison failed; returning scalar instead, but in the future will perform elementwise comparison\n",
            "\n"
          ],
          "name": "stderr"
        },
        {
          "output_type": "stream",
          "text": [
            "latency, test acc: 2.9152069091796875 12.58000135421753\n",
            "input is: ['2' '4' '32']\n",
            "Variables are: 2 4 32\n",
            "latency, test acc: 3.8816245794296265 47.90400266647339\n",
            "input is: ['8' '2' '4']\n",
            "Variables are: 8 2 4\n",
            "latency, test acc: 2.3938684463500977 12.92799711227417\n",
            "input is: ['16' '2' '64']\n",
            "Variables are: 16 2 64\n",
            "latency, test acc: 2.513787269592285 13.248002529144287\n",
            "input is: ['64' '1' '64']\n",
            "Variables are: 64 1 64\n",
            "latency, test acc: 2.6106433868408203 13.200002908706665\n",
            "input is: ['2' '2' '64']\n",
            "Variables are: 2 2 64\n",
            "latency, test acc: 3.5067694187164307 50.0\n",
            "input is: ['8' '3' '8']\n",
            "Variables are: 8 3 8\n",
            "latency, test acc: 2.534367322921753 12.68399953842163\n",
            "input is: ['10' '4' '16']\n",
            "Variables are: 10 4 16\n",
            "latency, test acc: 2.7125792503356934 12.727999687194824\n",
            "input is: ['8' '2' '4']\n",
            "Variables are: 8 2 4\n",
            "latency, test acc: 2.375359058380127 13.447999954223633\n",
            "input is: ['64' '2' '4']\n",
            "Variables are: 64 2 4\n",
            "latency, test acc: 2.9189116954803467 12.752002477645874\n",
            "input is: ['8.0' '1.0' '32.0']\n",
            "Variables are: 8 1 32\n",
            "latency, test acc: 2.344515085220337 12.492001056671143\n",
            "input is: ['8.0' '1.0' '64.0']\n",
            "Variables are: 8 1 64\n",
            "latency, test acc: 2.2929654121398926 12.467998266220093\n",
            "input is: ['10.0' '1.0' '6.0']\n",
            "Variables are: 10 1 6\n",
            "latency, test acc: 2.332543134689331 12.911999225616455\n",
            "input is: ['16.0' '1.0' '8.0']\n",
            "Variables are: 16 1 8\n",
            "latency, test acc: 2.402195930480957 12.603998184204102\n",
            "input is: ['10.0' '2.0' '16.0']\n",
            "Variables are: 10 2 16\n",
            "latency, test acc: 2.499969720840454 12.852001190185547\n",
            "front is [['8.0' '1.0' '64.0' '2.2929654121398926' '12.467998266220093']]\n",
            "15\n",
            "Generation: 1 ...\n",
            "10\n",
            "input is: ['64' '3' '2']\n",
            "Variables are: 64 3 2\n",
            "latency, test acc: 3.1297900676727295 12.651997804641724\n",
            "input is: ['4' '4' '2']\n",
            "Variables are: 4 4 2\n",
            "latency, test acc: 2.607590675354004 13.380002975463867\n",
            "input is: ['2' '1' '2']\n",
            "Variables are: 2 1 2\n",
            "latency, test acc: 3.3734450340270996 50.0\n",
            "input is: ['10' '3' '2']\n",
            "Variables are: 10 3 2\n",
            "latency, test acc: 2.6524882316589355 12.852001190185547\n",
            "input is: ['4' '4' '4']\n",
            "Variables are: 4 4 4\n",
            "latency, test acc: 2.577669143676758 12.852001190185547\n",
            "input is: ['64' '2' '10']\n",
            "Variables are: 64 2 10\n",
            "latency, test acc: 2.897663116455078 12.547999620437622\n",
            "input is: ['64' '1' '6']\n",
            "Variables are: 64 1 6\n",
            "latency, test acc: 2.892882823944092 13.0840003490448\n",
            "input is: ['4' '4' '10']\n",
            "Variables are: 4 4 10\n",
            "latency, test acc: 2.606909990310669 12.52400279045105\n",
            "input is: ['10' '4' '2']\n",
            "Variables are: 10 4 2\n",
            "latency, test acc: 2.713808059692383 13.099998235702515\n",
            "input is: ['32' '1' '2']\n",
            "Variables are: 32 1 2\n",
            "latency, test acc: 2.457639694213867 12.904000282287598\n",
            "input is: ['8.0' '1.0' '64.0']\n",
            "Variables are: 8 1 64\n",
            "latency, test acc: 2.287341356277466 12.852001190185547\n",
            "input is: ['8.0' '1.0' '32.0']\n",
            "Variables are: 8 1 32\n",
            "latency, test acc: 2.3038532733917236 12.812000513076782\n",
            "input is: ['10.0' '1.0' '6.0']\n",
            "Variables are: 10 1 6\n",
            "latency, test acc: 2.3404340744018555 12.760001420974731\n",
            "input is: ['64' '2' '64']\n",
            "Variables are: 64 2 64\n",
            "latency, test acc: 2.880526304244995 13.300001621246338\n",
            "input is: ['16.0' '1.0' '8.0']\n",
            "Variables are: 16 1 8\n",
            "latency, test acc: 2.3844923973083496 12.540000677108765\n",
            "front is [['4' '4' '10' '2.606909990310669' '12.52400279045105']\n",
            " ['8.0' '1.0' '64.0' '2.287341356277466' '12.852001190185547']\n",
            " ['8.0' '1.0' '32.0' '2.3038532733917236' '12.812000513076782']\n",
            " ['10.0' '1.0' '6.0' '2.3404340744018555' '12.760001420974731']\n",
            " ['16.0' '1.0' '8.0' '2.3844923973083496' '12.540000677108765']]\n",
            "15\n",
            "Generation: 2 ...\n",
            "10\n",
            "input is: ['10' '1' '6']\n",
            "Variables are: 10 1 6\n",
            "latency, test acc: 2.33844256401062 13.1600022315979\n",
            "input is: ['2' '1' '4']\n",
            "Variables are: 2 1 4\n",
            "latency, test acc: 3.372804880142212 47.10800051689148\n",
            "input is: ['64' '2' '10']\n",
            "Variables are: 64 2 10\n",
            "latency, test acc: 2.857848644256592 12.808001041412354\n",
            "input is: ['2' '3' '6']\n",
            "Variables are: 2 3 6\n",
            "latency, test acc: 3.6337748765945435 48.88799786567688\n",
            "input is: ['8' '2' '64']\n",
            "Variables are: 8 2 64\n",
            "latency, test acc: 2.3667807579040527 12.411999702453613\n",
            "input is: ['8' '4' '10']\n",
            "Variables are: 8 4 10\n",
            "latency, test acc: 2.624380111694336 12.823998928070068\n",
            "input is: ['6' '1' '4']\n",
            "Variables are: 6 1 4\n",
            "latency, test acc: 2.2667558193206787 12.5760018825531\n",
            "input is: ['6' '3' '4']\n",
            "Variables are: 6 3 4\n",
            "latency, test acc: 2.5030059814453125 12.5\n",
            "input is: ['8' '1' '4']\n",
            "Variables are: 8 1 4\n",
            "latency, test acc: 2.2491283416748047 12.988001108169556\n",
            "input is: ['10' '2' '6']\n",
            "Variables are: 10 2 6\n",
            "latency, test acc: 2.4662322998046875 12.515997886657715\n",
            "input is: ['4' '4' '10']\n",
            "Variables are: 4 4 10\n",
            "latency, test acc: 2.5539512634277344 12.375998497009277\n",
            "input is: ['8.0' '1.0' '64.0']\n",
            "Variables are: 8 1 64\n",
            "latency, test acc: 2.283389091491699 12.812000513076782\n",
            "input is: ['8.0' '1.0' '32.0']\n",
            "Variables are: 8 1 32\n",
            "latency, test acc: 2.269085168838501 12.900000810623169\n",
            "input is: ['10.0' '1.0' '6.0']\n",
            "Variables are: 10 1 6\n",
            "latency, test acc: 2.390955686569214 12.904000282287598\n",
            "input is: ['16.0' '1.0' '8.0']\n",
            "Variables are: 16 1 8\n",
            "latency, test acc: 2.374084234237671 12.691998481750488\n",
            "front is [['8' '2' '64' '2.3667807579040527' '12.411999702453613']\n",
            " ['6' '1' '4' '2.2667558193206787' '12.5760018825531']\n",
            " ['8' '1' '4' '2.2491283416748047' '12.988001108169556']\n",
            " ['4' '4' '10' '2.5539512634277344' '12.375998497009277']]\n",
            "15\n",
            "Generation: 3 ...\n",
            "10\n",
            "input is: ['8' '3' '10']\n",
            "Variables are: 8 3 10\n",
            "latency, test acc: 2.512596607208252 13.616001605987549\n",
            "input is: ['4' '3' '10']\n",
            "Variables are: 4 3 10\n",
            "latency, test acc: 2.4663262367248535 13.043999671936035\n",
            "input is: ['4' '2' '2']\n",
            "Variables are: 4 2 2\n",
            "latency, test acc: 2.343968391418457 12.396001815795898\n",
            "input is: ['16' '3' '8']\n",
            "Variables are: 16 3 8\n",
            "latency, test acc: 2.616529941558838 12.892001867294312\n",
            "input is: ['6' '2' '6']\n",
            "Variables are: 6 2 6\n",
            "latency, test acc: 2.3544504642486572 12.471997737884521\n",
            "input is: ['8' '2' '64']\n",
            "Variables are: 8 2 64\n",
            "latency, test acc: 2.3555567264556885 12.599998712539673\n",
            "input is: ['8' '3' '10']\n",
            "Variables are: 8 3 10\n",
            "latency, test acc: 2.5067129135131836 13.32399845123291\n",
            "input is: ['2' '4' '10']\n",
            "Variables are: 2 4 10\n",
            "latency, test acc: 3.8088440895080566 50.0\n",
            "input is: ['32' '3' '32']\n",
            "Variables are: 32 3 32\n",
            "latency, test acc: 2.7601099014282227 13.076001405715942\n",
            "input is: ['64' '4' '16']\n",
            "Variables are: 64 4 16\n",
            "latency, test acc: 3.285490036010742 12.999999523162842\n",
            "input is: ['8' '2' '64']\n",
            "Variables are: 8 2 64\n",
            "latency, test acc: 2.3680226802825928 12.5760018825531\n",
            "input is: ['6' '1' '4']\n",
            "Variables are: 6 1 4\n",
            "latency, test acc: 2.3604772090911865 12.60799765586853\n",
            "input is: ['8' '1' '4']\n",
            "Variables are: 8 1 4\n",
            "latency, test acc: 2.2774641513824463 13.147997856140137\n",
            "input is: ['4' '4' '10']\n",
            "Variables are: 4 4 10\n",
            "latency, test acc: 2.552032232284546 12.879997491836548\n",
            "input is: ['6' '3' '4']\n",
            "Variables are: 6 3 4\n",
            "latency, test acc: 2.4765725135803223 12.848001718521118\n",
            "15\n",
            "total time is 1007.5204274654388\n"
          ],
          "name": "stdout"
        },
        {
          "output_type": "display_data",
          "data": {
            "image/png": "[encoded data removed]",
            "text/plain": [
              "<Figure size 432x288 with 1 Axes>"
            ]
          },
          "metadata": {
            "tags": [],
            "needs_background": "light"
          }
        }
      ]
    },
    {
      "cell_type": "code",
      "metadata": {
        "id": "vY5WqXc37c3E"
      },
      "source": [
        "# ft = pd.read_csv(\"gdrive/MyDrive/‘chowliu’_4_3.csv\").to_numpy()[:,1:6]\n",
        "\n",
        "f1 =list(ft[:,3].astype(float))\n",
        "f2 = list(ft[:,4].astype(float))\n",
        "\n",
        "\n",
        "plt.scatter(list(f2), list(f1), marker='o')\n",
        "f1_ = np.array(f1)\n",
        "f2_ = np.array(f2)\n",
        "idx = non_dominated_sorting_algorithm(f1, f2)\n",
        "print(idx)\n"
      ],
      "execution_count": null,
      "outputs": []
    },
    {
      "cell_type": "code",
      "metadata": {
        "colab": {
          "base_uri": "https://localhost:8080/",
          "height": 313
        },
        "id": "aIA1TiXP7c3F",
        "outputId": "1e7dcb16-7882-4f84-f34b-b46987140eae"
      },
      "source": [
        "# sorted_array = an_array[numpy.argsort(an_array[:, 1])]\n",
        "\n",
        "frontx = np.array(f1)\n",
        "fronty = np.array(f2)\n",
        "\n",
        "front = np.array([f1,f2])\n",
        "# pd.DataFrame(front).to_csv(\"front.csv\")\n",
        "\n",
        "f1_ = frontx[list(idx[0])]\n",
        "f2_ = fronty[list(idx[0])]\n",
        "indexs_to_order_by = f1_.argsort()\n",
        "f1_ = f1_[indexs_to_order_by]\n",
        "f2_ = f2_[indexs_to_order_by]\n",
        "# pd.DataFrame([f1_,f2_]).to_csv(\"front1.csv\")\n",
        "\n",
        "front_chiu1 = f1_\n",
        "front_chiu2 = f2_\n",
        "# plt.ylim(12,15)\n",
        "plt.plot(f2_, f1_, marker='o')\n",
        "\n",
        "\n",
        "f1_ = frontx[list(idx[1])]\n",
        "f2_ = fronty[list(idx[1])]\n",
        "indexs_to_order_by = f1_.argsort()\n",
        "f1_ = f1_[indexs_to_order_by]\n",
        "f2_ = f2_[indexs_to_order_by]\n",
        "plt.plot(f2_, f1_, marker='+')\n",
        "\n",
        "f1_ = frontx[list(idx[2])]\n",
        "f2_ = fronty[list(idx[2])]\n",
        "indexs_to_order_by = f1_.argsort()\n",
        "f1_ = f1_[indexs_to_order_by]\n",
        "f2_ = f2_[indexs_to_order_by]\n",
        "plt.plot(f2_, f1_, marker='^')\n",
        "\n",
        "f1_ = frontx[list(idx[3])]\n",
        "f2_ = fronty[list(idx[3])]\n",
        "indexs_to_order_by = f1_.argsort()\n",
        "f1_ = f1_[indexs_to_order_by]\n",
        "f2_ = f2_[indexs_to_order_by]\n",
        "plt.plot(f2_, f1_, marker='p')\n",
        "\n",
        "plt.xlabel('Latency')\n",
        "plt.ylabel('Classification Error')\n",
        "plt.title('Transformer optimization')"
      ],
      "execution_count": 37,
      "outputs": [
        {
          "output_type": "execute_result",
          "data": {
            "text/plain": [
              "Text(0.5, 1.0, 'Transformer optimization')"
            ]
          },
          "metadata": {
            "tags": []
          },
          "execution_count": 37
        },
        {
          "output_type": "display_data",
          "data": {
            "image/png": "[encoded data removed]",
            "text/plain": [
              "<Figure size 432x288 with 1 Axes>"
            ]
          },
          "metadata": {
            "tags": [],
            "needs_background": "light"
          }
        }
      ]
    },
    {
      "cell_type": "markdown",
      "metadata": {
        "id": "bqu4nK4jHOGU"
      },
      "source": [
        "**Comparing**"
      ]
    },
    {
      "cell_type": "code",
      "metadata": {
        "id": "NQ7nvizl5_hi",
        "colab": {
          "base_uri": "https://localhost:8080/",
          "height": 313
        },
        "outputId": "5ddcb834-1a89-43d0-a5c6-1ab34e01f881"
      },
      "source": [
        "plt.plot(front_chiu2, front_chiu1, marker='p')\n",
        "plt.plot(front_greedy2, front_greedy1, marker='o')\n",
        "plt.legend(['Chow-liu', 'Greedy'], loc='best')\n",
        "plt.ylabel('Latency')\n",
        "plt.xlabel('Classification Error')\n",
        "plt.title('Pareto Fronts')"
      ],
      "execution_count": 48,
      "outputs": [
        {
          "output_type": "execute_result",
          "data": {
            "text/plain": [
              "Text(0.5, 1.0, 'Pareto Fronts')"
            ]
          },
          "metadata": {
            "tags": []
          },
          "execution_count": 48
        },
        {
          "output_type": "display_data",
          "data": {
            "image/png": "[encoded data removed]",
            "text/plain": [
              "<Figure size 432x288 with 1 Axes>"
            ]
          },
          "metadata": {
            "tags": [],
            "needs_background": "light"
          }
        }
      ]
    },
    {
      "cell_type": "markdown",
      "metadata": {
        "id": "cpHD-IVnHxjx"
      },
      "source": [
        "## **Binh and Korn**"
      ]
    },
    {
      "cell_type": "code",
      "metadata": {
        "colab": {
          "base_uri": "https://localhost:8080/",
          "height": 1000
        },
        "id": "ojpQgY5ErUZo",
        "outputId": "e6417dd9-3e8d-42c9-e371-d9672e79821a"
      },
      "source": [
        "from pymoo.factory import get_problem\n",
        "from pymoo.util.plotting import plot\n",
        "\n",
        "problem = get_problem(\"bnh\")\n",
        "\n",
        "\n",
        "def fitnessFunction (X):\n",
        "  return list(problem.evaluate(X)[0])\n",
        "\n",
        "NUM_VARIABLES = 2\n",
        "VAR_SIZE = 3\n",
        "\n",
        "\n",
        "begin = -5\n",
        "end = 5\n",
        "inc = (end-begin)/15\n",
        "inc1 = 5/15\n",
        "inc2=3/15\n",
        "\n",
        "\n",
        "var1 = np.arange(start=0, stop=5 + inc, step=inc1)\n",
        "var2 = np.arange(start=0, stop=3 + inc, step=inc2)\n",
        "\n",
        "var1_bin = bitEncoder(var1)\n",
        "var2_bin = bitEncoder(var2)\n",
        "\n",
        "\n",
        "variables = np.array(\n",
        "  np.meshgrid(var1, var2)).T.reshape(-1, NUM_VARIABLES)\n",
        "variables_bin = np.array(\n",
        "  np.meshgrid(var1_bin, var2_bin)).T.reshape(-1, NUM_VARIABLES)\n",
        "\n",
        "\n",
        "data = EncoderDecoder(variables,variables_bin)\n",
        "\n",
        "chrom,ft,paretoFront = bayesianOptimizer(variables,algorithm='greedy' ,POP_SIZE=50,gens=4)\n"
      ],
      "execution_count": 140,
      "outputs": [
        {
          "output_type": "stream",
          "text": [
            "############ FIT [5.760000000000002, 39.44]\n",
            "############ FIT [48.07111111111112, 16.684444444444445]\n",
            "############ FIT [98.1511111111111, 7.204444444444443]\n",
            "############ FIT [79.1111111111111, 16.444444444444446]\n",
            "############ FIT [101.44, 19.360000000000003]\n",
            "############ FIT [180.28444444444443, 2.4044444444444433]\n",
            "############ FIT [36.16, 27.04]\n",
            "############ FIT [32.44444444444444, 21.444444444444446]\n",
            "############ FIT [146.24, 2.5599999999999987]\n",
            "############ FIT [165.61777777777777, 2.0711111111111107]\n",
            "############ FIT [13.404444444444445, 32.01777777777778]\n",
            "############ FIT [17.351111111111113, 25.004444444444445]\n",
            "############ FIT [131.36, 4.839999999999999]\n",
            "############ FIT [80.81777777777778, 7.537777777777778]\n",
            "############ FIT [53.35111111111112, 16.004444444444445]\n",
            "############ FIT [103.11111111111109, 9.11111111111111]\n",
            "############ FIT [36.284444444444446, 18.404444444444444]\n",
            "############ FIT [123.11111111111109, 4.111111111111112]\n",
            "############ FIT [68.0, 17.0]\n",
            "############ FIT [149.77777777777777, 4.111111111111111]\n",
            "############ FIT [4.640000000000001, 37.16]\n",
            "############ FIT [80.0, 10.0]\n",
            "############ FIT [75.2711111111111, 23.484444444444446]\n",
            "############ FIT [46.24000000000001, 27.56]\n",
            "############ FIT [68.01777777777778, 9.671111111111111]\n",
            "############ FIT [88.55111111111108, 19.471111111111114]\n",
            "############ FIT [19.804444444444446, 29.617777777777782]\n",
            "############ FIT [114.41777777777777, 21.271111111111107]\n",
            "############ FIT [62.73777777777778, 10.351111111111113]\n",
            "############ FIT [35.36000000000001, 20.84]\n",
            "############ FIT [1.4400000000000004, 44.36]\n",
            "############ FIT [73.61777777777777, 9.071111111111112]\n",
            "############ FIT [87.75111111111109, 21.271111111111107]\n",
            "############ FIT [80.44444444444443, 6.777777777777779]\n",
            "############ FIT [115.84, 2.96]\n",
            "############ FIT [7.840000000000002, 37.959999999999994]\n",
            "############ FIT [116.33777777777777, 17.75111111111111]\n",
            "############ FIT [19.804444444444446, 29.617777777777782]\n",
            "############ FIT [121.35111111111111, 3.0044444444444434]\n",
            "############ FIT [21.35111111111111, 22.67111111111111]\n",
            "############ FIT [17.351111111111113, 25.004444444444445]\n",
            "############ FIT [44.96000000000001, 19.24]\n",
            "############ FIT [64.44444444444444, 9.444444444444446]\n",
            "############ FIT [124.01777777777778, 11.67111111111111]\n",
            "############ FIT [82.24000000000001, 6.559999999999999]\n",
            "############ FIT [18.560000000000002, 26.64]\n",
            "############ FIT [123.11111111111109, 4.111111111111112]\n",
            "############ FIT [14.240000000000002, 27.56]\n",
            "############ FIT [16.64, 30.159999999999997]\n",
            "############ FIT [34.15111111111111, 17.871111111111112]\n",
            "############ FIT [21.35111111111111, 22.67111111111111]\n",
            "############ FIT [48.81777777777778, 12.871111111111112]\n",
            "############ FIT [52.0, 13.0]\n",
            "############ FIT [44.44444444444444, 14.444444444444446]\n",
            "############ FIT [44.81777777777778, 13.87111111111111]\n",
            "############ FIT [87.27111111111108, 23.15111111111111]\n",
            "############ FIT [37.77777777777778, 22.777777777777775]\n",
            "############ FIT [133.13777777777779, 7.95111111111111]\n",
            "############ FIT [53.93777777777777, 24.817777777777778]\n",
            "############ FIT [19.360000000000003, 32.839999999999996]\n",
            "############ FIT [169.40444444444444, 3.684444444444443]\n",
            "############ FIT [0.0, 50.0]\n",
            "############ FIT [76.81777777777778, 8.537777777777777]\n",
            "############ FIT [180.28444444444443, 2.4044444444444433]\n",
            "############ FIT [43.111111111111114, 17.444444444444446]\n",
            "############ FIT [82.9511111111111, 13.404444444444442]\n",
            "############ FIT [17.351111111111113, 25.004444444444445]\n",
            "############ FIT [105.61777777777777, 3.7377777777777776]\n",
            "############ FIT [21.77777777777777, 32.111111111111114]\n",
            "############ FIT [27.537777777777773, 21.551111111111112]\n",
            "############ FIT [27.040000000000006, 22.759999999999998]\n",
            "############ FIT [126.9511111111111, 2.4044444444444446]\n",
            "############ FIT [37.44, 23.360000000000003]\n",
            "############ FIT [136.28444444444443, 13.40444444444444]\n",
            "############ FIT [76.81777777777778, 8.537777777777777]\n",
            "############ FIT [38.684444444444445, 17.004444444444445]\n",
            "############ FIT [4.337777777777778, 36.41777777777777]\n",
            "############ FIT [149.77777777777777, 4.111111111111111]\n",
            "############ FIT [73.61777777777777, 9.071111111111112]\n",
            "############ FIT [9.760000000000002, 30.439999999999998]\n",
            "############ FIT [9.760000000000002, 30.439999999999998]\n",
            "############ FIT [36.284444444444446, 18.404444444444444]\n",
            "############ FIT [97.3511111111111, 11.67111111111111]\n",
            "############ FIT [69.40444444444445, 8.684444444444445]\n",
            "############ FIT [106.4711111111111, 5.284444444444444]\n",
            "############ FIT [57.351111111111116, 13.671111111111111]\n",
            "############ FIT [24.071111111111108, 21.351111111111116]\n",
            "############ FIT [164.44444444444443, 4.444444444444444]\n",
            "############ FIT [69.40444444444445, 8.684444444444445]\n",
            "############ FIT [28.604444444444443, 28.484444444444446]\n",
            "############ FIT [50.204444444444434, 17.217777777777776]\n",
            "############ FIT [12.871111111111112, 27.884444444444448]\n",
            "############ FIT [57.77777777777777, 17.77777777777778]\n",
            "############ FIT [12.01777777777778, 30.337777777777774]\n",
            "############ FIT [27.040000000000003, 30.759999999999998]\n",
            "############ FIT [1.0844444444444445, 42.93777777777778]\n",
            "############ FIT [9.671111111111111, 31.084444444444447]\n",
            "############ FIT [115.84, 2.96]\n",
            "############ FIT [58.95111111111112, 15.404444444444445]\n",
            "############ FIT [57.351111111111116, 13.671111111111111]\n",
            "############ FIT [113.93777777777777, 23.15111111111111]\n",
            "############ FIT [28.81777777777778, 24.537777777777777]\n",
            "############ FIT [34.73777777777777, 17.351111111111116]\n",
            "############ FIT [34.20444444444445, 19.884444444444444]\n",
            "############ FIT [16.0, 34.0]\n",
            "############ FIT [102.1511111111111, 6.204444444444444]\n",
            "############ FIT [55.36, 11.84]\n",
            "############ FIT [133.13777777777779, 7.95111111111111]\n",
            "############ FIT [12.551111111111108, 30.471111111111114]\n",
            "############ FIT [123.04, 6.759999999999998]\n",
            "############ FIT [41.40444444444445, 25.01777777777778]\n",
            "############ FIT [16.0, 34.0]\n",
            "############ FIT [63.040000000000006, 9.76]\n",
            "############ FIT [32.01777777777777, 18.67111111111111]\n",
            "############ FIT [76.5511111111111, 19.80444444444445]\n",
            "############ FIT [87.27111111111108, 23.15111111111111]\n",
            "############ FIT [165.61777777777777, 2.0711111111111107]\n",
            "############ FIT [62.73777777777778, 10.351111111111113]\n",
            "############ FIT [11.11111111111111, 29.444444444444446]\n",
            "############ FIT [26.240000000000002, 20.56]\n",
            "############ FIT [58.95111111111112, 15.404444444444445]\n",
            "############ FIT [87.84, 5.96]\n",
            "############ FIT [20.07111111111111, 23.68444444444445]\n",
            "############ FIT [100.0, 5.0]\n",
            "############ FIT [5.44, 35.36]\n",
            "############ FIT [105.61777777777777, 3.7377777777777776]\n",
            "############ FIT [100.0, 5.0]\n",
            "############ FIT [67.48444444444445, 9.537777777777777]\n",
            "############ FIT [23.217777777777773, 26.471111111111114]\n",
            "############ FIT [71.48444444444443, 8.537777777777778]\n",
            "############ FIT [53.77777777777777, 26.77777777777778]\n",
            "############ FIT [29.884444444444444, 24.80444444444445]\n",
            "############ FIT [51.48444444444445, 12.204444444444444]\n",
            "############ FIT [48.07111111111112, 16.684444444444445]\n",
            "############ FIT [17.351111111111113, 25.004444444444445]\n",
            "############ FIT [131.36, 4.839999999999999]\n",
            "############ FIT [105.61777777777777, 3.7377777777777776]\n",
            "############ FIT [121.35111111111111, 3.0044444444444434]\n",
            "############ FIT [59.040000000000006, 10.759999999999998]\n",
            "############ FIT [44.81777777777778, 13.87111111111111]\n",
            "############ FIT [47.11111111111111, 15.111111111111112]\n",
            "############ FIT [5.44, 35.36]\n",
            "############ FIT [38.684444444444445, 17.004444444444445]\n",
            "############ FIT [169.40444444444444, 3.684444444444443]\n",
            "############ FIT [29.884444444444444, 24.80444444444445]\n",
            "############ FIT [24.817777777777785, 25.537777777777773]\n",
            "############ FIT [155.48444444444442, 6.2044444444444435]\n",
            "############ FIT [69.77777777777777, 10.777777777777779]\n",
            "############ FIT [128.0711111111111, 3.351111111111111]\n",
            "############ FIT [52.284444444444446, 23.737777777777783]\n",
            "############ FIT [63.040000000000006, 9.76]\n",
            "############ FIT [69.40444444444445, 8.684444444444445]\n",
            "############ FIT [59.80444444444445, 10.284444444444444]\n",
            "############ FIT [53.13777777777778, 11.95111111111111]\n",
            "############ FIT [136.0, 4.0]\n",
            "############ FIT [57.77777777777777, 11.111111111111112]\n",
            "############ FIT [9.760000000000002, 30.439999999999998]\n",
            "############ FIT [62.73777777777778, 10.351111111111113]\n",
            "############ FIT [160.01777777777778, 2.6711111111111094]\n",
            "############ FIT [73.13777777777777, 9.617777777777777]\n",
            "############ FIT [48.81777777777778, 12.871111111111112]\n",
            "############ FIT [23.360000000000003, 23.84]\n",
            "############ FIT [35.36, 16.84]\n",
            "############ FIT [147.80444444444444, 8.284444444444443]\n",
            "############ FIT [4.640000000000001, 37.16]\n",
            "############ FIT [63.040000000000006, 9.76]\n",
            "############ FIT [136.0, 4.0]\n",
            "############ FIT [116.0, 9.0]\n",
            "############ FIT [82.9511111111111, 13.404444444444442]\n",
            "############ FIT [80.0, 10.0]\n",
            "############ FIT [6.5600000000000005, 33.64]\n",
            "############ FIT [101.44, 19.360000000000003]\n",
            "############ FIT [128.44444444444443, 25.444444444444443]\n",
            "############ FIT [117.77777777777777, 16.11111111111111]\n",
            "############ FIT [44.444444444444436, 27.77777777777778]\n",
            "############ FIT [138.68444444444444, 12.004444444444442]\n",
            "############ FIT [23.217777777777773, 26.471111111111114]\n",
            "############ FIT [104.0, 16.0]\n",
            "############ FIT [31.80444444444445, 26.617777777777782]\n",
            "############ FIT [73.13777777777777, 9.617777777777777]\n",
            "############ FIT [6.204444444444446, 36.21777777777778]\n",
            "############ FIT [20.0, 25.0]\n",
            "############ FIT [0.16000000000000003, 48.04]\n",
            "############ FIT [83.36, 8.84]\n",
            "############ FIT [133.3511111111111, 2.6711111111111103]\n",
            "############ FIT [23.840000000000003, 21.959999999999997]\n",
            "############ FIT [79.1111111111111, 16.444444444444446]\n",
            "############ FIT [144.44444444444443, 9.444444444444443]\n",
            "############ FIT [87.11111111111109, 25.11111111111111]\n",
            "############ FIT [41.13777777777777, 14.95111111111111]\n",
            "############ FIT [8.551111111111112, 32.80444444444445]\n",
            "############ FIT [141.40444444444444, 10.684444444444445]\n",
            "############ FIT [94.73777777777778, 5.017777777777777]\n",
            "############ FIT [47.36000000000001, 13.84]\n",
            "############ FIT [34.20444444444445, 19.884444444444444]\n",
            "############ FIT [98.1511111111111, 7.204444444444443]\n",
            "############ FIT [45.084444444444436, 23.937777777777775]\n",
            "############ FIT [112.96000000000001, 10.240000000000002]\n",
            "############ FIT [26.240000000000002, 20.56]\n",
            "############ FIT [20.0, 25.0]\n",
            "front is [[5.33333333e+00 3.60000000e+00 1.65617778e+02 2.07111111e+00]\n",
            " [1.33333333e+00 1.60000000e+00 1.73511111e+01 2.50044444e+01]\n",
            " [3.33333333e+00 3.00000000e+00 8.04444444e+01 6.77777778e+00]\n",
            " [4.00000000e+00 3.60000000e+00 1.15840000e+02 2.96000000e+00]\n",
            " [1.66666667e+00 1.60000000e+00 2.13511111e+01 2.26711111e+01]\n",
            " [2.66666667e+00 3.00000000e+00 6.44444444e+01 9.44444444e+00]\n",
            " [3.00000000e+00 3.40000000e+00 8.22400000e+01 6.56000000e+00]\n",
            " [1.00000000e+00 1.60000000e+00 1.42400000e+01 2.75600000e+01]\n",
            " [1.66666667e+00 2.40000000e+00 3.41511111e+01 1.78711111e+01]\n",
            " [2.33333333e+00 2.60000000e+00 4.88177778e+01 1.28711111e+01]\n",
            " [2.66666667e+00 2.00000000e+00 4.44444444e+01 1.44444444e+01]\n",
            " [2.33333333e+00 2.40000000e+00 4.48177778e+01 1.38711111e+01]\n",
            " [0.00000000e+00 0.00000000e+00 0.00000000e+00 5.00000000e+01]\n",
            " [3.66666667e+00 2.40000000e+00 7.68177778e+01 8.53777778e+00]\n",
            " [3.66666667e+00 3.60000000e+00 1.05617778e+02 3.73777778e+00]\n",
            " [4.33333333e+00 3.60000000e+00 1.26951111e+02 2.40444444e+00]\n",
            " [6.66666667e-01 8.00000000e-01 4.33777778e+00 3.64177778e+01]\n",
            " [1.00000000e+00 1.20000000e+00 9.76000000e+00 3.04400000e+01]\n",
            " [2.66666667e+00 3.20000000e+00 6.94044444e+01 8.68444444e+00]\n",
            " [1.66666667e+00 1.80000000e+00 2.40711111e+01 2.13511111e+01]\n",
            " [1.33333333e+00 1.20000000e+00 1.28711111e+01 2.78844444e+01]\n",
            " [3.33333333e-01 4.00000000e-01 1.08444444e+00 4.29377778e+01]\n",
            " [1.33333333e+00 8.00000000e-01 9.67111111e+00 3.10844444e+01]\n",
            " [2.33333333e+00 1.80000000e+00 3.47377778e+01 1.73511111e+01]\n",
            " [3.00000000e+00 2.20000000e+00 5.53600000e+01 1.18400000e+01]\n",
            " [3.00000000e+00 2.60000000e+00 6.30400000e+01 9.76000000e+00]\n",
            " [2.33333333e+00 1.60000000e+00 3.20177778e+01 1.86711111e+01]\n",
            " [1.33333333e+00 1.00000000e+00 1.11111111e+01 2.94444444e+01]\n",
            " [2.00000000e+00 1.60000000e+00 2.62400000e+01 2.05600000e+01]\n",
            " [3.00000000e+00 3.60000000e+00 8.78400000e+01 5.96000000e+00]\n",
            " [1.33333333e+00 1.80000000e+00 2.00711111e+01 2.36844444e+01]\n",
            " [4.00000000e+00 3.00000000e+00 1.00000000e+02 5.00000000e+00]\n",
            " [1.00000000e+00 6.00000000e-01 5.44000000e+00 3.53600000e+01]\n",
            " [3.33333333e+00 2.60000000e+00 7.14844444e+01 8.53777778e+00]\n",
            " [2.66666667e+00 2.40000000e+00 5.14844444e+01 1.22044444e+01]\n",
            " [3.00000000e+00 2.40000000e+00 5.90400000e+01 1.07600000e+01]\n",
            " [2.66666667e+00 2.80000000e+00 5.98044444e+01 1.02844444e+01]\n",
            " [2.33333333e+00 2.80000000e+00 5.31377778e+01 1.19511111e+01]\n",
            " [2.33333333e+00 3.00000000e+00 5.77777778e+01 1.11111111e+01]\n",
            " [2.00000000e+00 2.20000000e+00 3.53600000e+01 1.68400000e+01]\n",
            " [1.00000000e+00 8.00000000e-01 6.56000000e+00 3.36400000e+01]\n",
            " [1.00000000e+00 2.00000000e+00 2.00000000e+01 2.50000000e+01]\n",
            " [0.00000000e+00 2.00000000e-01 1.60000000e-01 4.80400000e+01]\n",
            " [2.00000000e+00 1.40000000e+00 2.38400000e+01 2.19600000e+01]\n",
            " [2.33333333e+00 2.20000000e+00 4.11377778e+01 1.49511111e+01]\n",
            " [1.33333333e+00 6.00000000e-01 8.55111111e+00 3.28044444e+01]\n",
            " [3.66666667e+00 3.20000000e+00 9.47377778e+01 5.01777778e+00]\n",
            " [2.00000000e+00 2.80000000e+00 4.73600000e+01 1.38400000e+01]]\n",
            "Generation: 0 ...\n",
            "70\n",
            "front is [[  2.66666667   2.2         47.80444444  13.28444444]\n",
            " [  2.66666667   3.4         74.68444444   8.00444444]\n",
            " [  2.33333333   1.8         34.73777778  17.35111111]\n",
            " [  1.           1.           8.          32.        ]\n",
            " [  2.66666667   2.6         55.48444444  11.20444444]\n",
            " [  1.66666667   2.8         42.47111111  15.95111111]\n",
            " [  1.           2.          20.          25.        ]\n",
            " [  2.           1.6         26.24        20.56      ]\n",
            " [  1.66666667   2.6         38.15111111  16.87111111]\n",
            " [  2.           1.8         28.96        19.24      ]\n",
            " [  1.33333333   1.          11.11111111  29.44444444]\n",
            " [  1.66666667   1.6         21.35111111  22.67111111]\n",
            " [  2.66666667   3.6         80.28444444   7.40444444]\n",
            " [  1.           0.8          6.56        33.64      ]\n",
            " [  1.33333333   1.2         12.87111111  27.88444444]\n",
            " [  2.66666667   3.2         69.40444444   8.68444444]\n",
            " [  5.           3.6        151.84         1.96      ]\n",
            " [  4.33333333   3.6        126.95111111   2.40444444]\n",
            " [  1.           1.4         11.84        28.96      ]\n",
            " [  1.33333333   1.6         17.35111111  25.00444444]\n",
            " [  3.33333333   3.          80.44444444   6.77777778]\n",
            " [  4.           3.6        115.84         2.96      ]\n",
            " [  2.66666667   3.          64.44444444   9.44444444]\n",
            " [  3.           3.4         82.24         6.56      ]\n",
            " [  1.           1.6         14.24        27.56      ]\n",
            " [  1.66666667   2.4         34.15111111  17.87111111]\n",
            " [  2.33333333   2.6         48.81777778  12.87111111]\n",
            " [  2.66666667   2.          44.44444444  14.44444444]\n",
            " [  2.33333333   2.4         44.81777778  13.87111111]\n",
            " [  0.           0.           0.          50.        ]\n",
            " [  3.66666667   3.6        105.61777778   3.73777778]\n",
            " [  0.66666667   0.8          4.33777778  36.41777778]\n",
            " [  1.           1.2          9.76        30.44      ]\n",
            " [  1.66666667   1.8         24.07111111  21.35111111]\n",
            " [  0.33333333   0.4          1.08444444  42.93777778]\n",
            " [  1.33333333   0.8          9.67111111  31.08444444]\n",
            " [  3.           2.2         55.36        11.84      ]\n",
            " [  3.           2.6         63.04         9.76      ]\n",
            " [  2.33333333   1.6         32.01777778  18.67111111]\n",
            " [  3.           3.6         87.84         5.96      ]]\n",
            "100\n",
            "Generation: 1 ...\n",
            "70\n",
            "front is [[  0.33333333   1.2          6.20444444  36.21777778]\n",
            " [  3.33333333   3.4         90.68444444   5.33777778]\n",
            " [  4.66666667   3.6        138.95111111   2.07111111]\n",
            " [  3.           2.6         63.04         9.76      ]\n",
            " [  2.           1.          20.          25.        ]\n",
            " [  0.33333333   0.6          1.88444444  41.13777778]\n",
            " [  3.33333333   3.6         96.28444444   4.73777778]\n",
            " [  1.           1.2          9.76        30.44      ]\n",
            " [  2.33333333   2.6         48.81777778  12.87111111]\n",
            " [  2.33333333   3.          57.77777778  11.11111111]\n",
            " [  0.           1.           4.          41.        ]\n",
            " [  2.66666667   3.          64.44444444   9.44444444]\n",
            " [  2.           1.6         26.24        20.56      ]\n",
            " [  2.66666667   2.6         55.48444444  11.20444444]\n",
            " [  2.66666667   2.2         47.80444444  13.28444444]\n",
            " [  2.66666667   3.4         74.68444444   8.00444444]\n",
            " [  2.33333333   1.8         34.73777778  17.35111111]\n",
            " [  1.           1.           8.          32.        ]\n",
            " [  1.66666667   2.8         42.47111111  15.95111111]\n",
            " [  1.           2.          20.          25.        ]\n",
            " [  1.66666667   2.6         38.15111111  16.87111111]\n",
            " [  2.           1.8         28.96        19.24      ]\n",
            " [  1.33333333   1.          11.11111111  29.44444444]\n",
            " [  1.66666667   1.6         21.35111111  22.67111111]\n",
            " [  2.66666667   3.6         80.28444444   7.40444444]\n",
            " [  1.           0.8          6.56        33.64      ]\n",
            " [  1.33333333   1.2         12.87111111  27.88444444]\n",
            " [  2.66666667   3.2         69.40444444   8.68444444]\n",
            " [  5.           3.6        151.84         1.96      ]\n",
            " [  4.33333333   3.6        126.95111111   2.40444444]\n",
            " [  1.           1.4         11.84        28.96      ]\n",
            " [  1.33333333   1.6         17.35111111  25.00444444]\n",
            " [  3.33333333   3.          80.44444444   6.77777778]\n",
            " [  4.           3.6        115.84         2.96      ]\n",
            " [  3.           3.4         82.24         6.56      ]\n",
            " [  1.           1.6         14.24        27.56      ]\n",
            " [  1.66666667   2.4         34.15111111  17.87111111]\n",
            " [  2.66666667   2.          44.44444444  14.44444444]\n",
            " [  2.33333333   2.4         44.81777778  13.87111111]\n",
            " [  0.           0.           0.          50.        ]]\n",
            "100\n",
            "Generation: 2 ...\n",
            "70\n",
            "front is [[  0.66666667   1.2          7.53777778  33.21777778]\n",
            " [  2.33333333   1.6         32.01777778  18.67111111]\n",
            " [  2.           2.2         35.36        16.84      ]\n",
            " [  4.           3.4        110.24         3.56      ]\n",
            " [  2.           2.6         43.04        14.76      ]\n",
            " [  2.66666667   2.          44.44444444  14.44444444]\n",
            " [  2.33333333   2.6         48.81777778  12.87111111]\n",
            " [  1.33333333   2.          23.11111111  22.44444444]\n",
            " [  0.           1.           4.          41.        ]\n",
            " [  2.33333333   2.8         53.13777778  11.95111111]\n",
            " [  4.           3.2        104.96         4.24      ]\n",
            " [  2.           2.4         39.04        15.76      ]\n",
            " [  1.66666667   1.8         24.07111111  21.35111111]\n",
            " [  3.           2.4         59.04        10.76      ]\n",
            " [  1.           1.           8.          32.        ]\n",
            " [  0.33333333   1.           4.44444444  37.77777778]\n",
            " [  1.66666667   2.          27.11111111  20.11111111]\n",
            " [  2.           1.8         28.96        19.24      ]\n",
            " [  1.33333333   1.8         20.07111111  23.68444444]\n",
            " [  0.33333333   0.4          1.08444444  42.93777778]\n",
            " [  0.33333333   0.6          1.88444444  41.13777778]\n",
            " [  2.33333333   3.          57.77777778  11.11111111]\n",
            " [  0.33333333   1.2          6.20444444  36.21777778]\n",
            " [  3.33333333   3.4         90.68444444   5.33777778]\n",
            " [  4.66666667   3.6        138.95111111   2.07111111]\n",
            " [  3.           2.6         63.04         9.76      ]\n",
            " [  2.           1.          20.          25.        ]\n",
            " [  3.33333333   3.6         96.28444444   4.73777778]\n",
            " [  1.           1.2          9.76        30.44      ]\n",
            " [  2.66666667   3.          64.44444444   9.44444444]\n",
            " [  2.           1.6         26.24        20.56      ]\n",
            " [  2.66666667   2.6         55.48444444  11.20444444]\n",
            " [  2.66666667   2.2         47.80444444  13.28444444]\n",
            " [  2.66666667   3.4         74.68444444   8.00444444]\n",
            " [  2.33333333   1.8         34.73777778  17.35111111]\n",
            " [  1.           2.          20.          25.        ]\n",
            " [  1.33333333   1.          11.11111111  29.44444444]\n",
            " [  1.66666667   1.6         21.35111111  22.67111111]\n",
            " [  2.66666667   3.6         80.28444444   7.40444444]\n",
            " [  1.           0.8          6.56        33.64      ]\n",
            " [  1.33333333   1.2         12.87111111  27.88444444]\n",
            " [  2.66666667   3.2         69.40444444   8.68444444]\n",
            " [  5.           3.6        151.84         1.96      ]\n",
            " [  4.33333333   3.6        126.95111111   2.40444444]]\n",
            "100\n",
            "Generation: 3 ...\n",
            "70\n",
            "100\n",
            "total time is 1.2840402126312256\n"
          ],
          "name": "stdout"
        },
        {
          "output_type": "display_data",
          "data": {
            "image/png": "[encoded data removed]",
            "text/plain": [
              "<Figure size 432x288 with 1 Axes>"
            ]
          },
          "metadata": {
            "tags": [],
            "needs_background": "light"
          }
        }
      ]
    },
    {
      "cell_type": "code",
      "metadata": {
        "colab": {
          "base_uri": "https://localhost:8080/",
          "height": 321
        },
        "id": "9-TNuknrrUZq",
        "outputId": "340c8b33-f009-41da-c361-ba5a4b4d2506"
      },
      "source": [
        "# ft = pd.read_csv(\"gdrive/MyDrive/fit_greedy_4.csv\").to_numpy()[:,1:6]\n",
        "print(ft.shape)\n",
        "f1 =list(ft[:,2].astype(float))\n",
        "f2 = list(ft[:,3].astype(float))\n",
        "\n",
        "\n",
        "plt.scatter(list(f2), list(f1), marker='o')\n",
        "f1_ = np.array(f1)\n",
        "f2_ = np.array(f2)\n",
        "idx = non_dominated_sorting_algorithm(f1, f2)\n",
        "print(idx)\n"
      ],
      "execution_count": 141,
      "outputs": [
        {
          "output_type": "stream",
          "text": [
            "(100, 4)\n",
            "[[0, 8, 19, 21, 30, 34, 35, 37, 41, 42, 46, 47, 56, 57, 70, 71, 72, 73, 74, 75, 76, 77, 78, 79, 80, 81, 82, 83, 84, 85, 86, 87, 88, 89, 90, 91, 93, 94, 95, 96, 97, 98, 99], [92, 45, 59, 53, 32, 54, 69, 49, 61, 67, 63, 1, 68, 60, 40, 52, 5, 25, 50, 2, 28], [15, 36, 33, 58, 13, 9, 14, 12, 26, 11, 62, 29], [31, 64, 65, 51, 48, 6, 4, 24], [18, 23, 20, 17], [7, 16, 44, 10, 22, 39, 66], [38, 55, 27, 3], [43]]\n"
          ],
          "name": "stdout"
        },
        {
          "output_type": "display_data",
          "data": {
            "image/png": "[encoded data removed]",
            "text/plain": [
              "<Figure size 432x288 with 1 Axes>"
            ]
          },
          "metadata": {
            "tags": [],
            "needs_background": "light"
          }
        }
      ]
    },
    {
      "cell_type": "code",
      "metadata": {
        "id": "-GQYx56ErUZs"
      },
      "source": [
        "\n",
        "plt.scatter(list(f2), list(f1), marker='o')\n",
        "frontx = np.array(f1)\n",
        "fronty = np.array(f2)\n",
        "\n",
        "front = np.array([f1,f2])\n",
        "\n",
        "\n",
        "f1_ = frontx[list(idx[0])]\n",
        "f2_ = fronty[list(idx[0])]\n",
        "indexs_to_order_by = f1_.argsort()\n",
        "f1_ = f1_[indexs_to_order_by]\n",
        "f2_ = f2_[indexs_to_order_by]\n",
        "\n",
        "print(front)\n",
        "\n",
        "plt.plot(f2_, f1_, marker='o', color='r')\n",
        "\n",
        "\n",
        "\n",
        "plt.legend(['Front 1', 'Front 2', 'Front 3', 'Front 4'], loc='best')\n",
        "plt.ylabel('Latency')\n",
        "plt.xlabel('Classification Error')\n",
        "plt.title('Transformer optimization')"
      ],
      "execution_count": null,
      "outputs": []
    },
    {
      "cell_type": "markdown",
      "metadata": {
        "id": "hO2kJXyKH_H8"
      },
      "source": [
        "## **Comparing with NSGA II**"
      ]
    },
    {
      "cell_type": "code",
      "metadata": {
        "colab": {
          "base_uri": "https://localhost:8080/",
          "height": 444
        },
        "id": "b7OlhqKsGLfv",
        "outputId": "6ad37403-b19e-4624-a183-51b36e6841b4"
      },
      "source": [
        "from pymoo.algorithms.nsga2 import NSGA2\n",
        "from pymoo.factory import get_problem, get_sampling, get_crossover, get_mutation\n",
        "from pymoo.optimize import minimize\n",
        "from pymoo.visualization.scatter import Scatter\n",
        "from pymoo.util.misc import stack\n",
        "from pymoo.model.problem import Problem\n",
        "\n",
        "\n",
        "\n",
        "tic = time.time()\n",
        "algorithm = NSGA2(pop_size=50)\n",
        "\n",
        "res = minimize(problem,\n",
        "               algorithm,\n",
        "               ('n_gen', 4),\n",
        "               seed=1,\n",
        "               verbose=False)\n",
        "latency = time.time() - tic\n",
        "print(latency)\n",
        "plot = Scatter()\n",
        "# plot.add(problem.pareto_front(), plot_type=\"line\", color=\"black\", alpha=0.1)\n",
        "plot.add(res.F, color=\"red\")\n",
        "plot.show()\n",
        "problem.pareto_front()[:,1]\n",
        "\n",
        "plt.scatter(f1_, f2_, marker='o', color='b')\n",
        "\n",
        "plt.legend(['NSGA II', 'Bayesian approach'], loc='best')\n",
        "plt.title('Binh & Korn function')"
      ],
      "execution_count": 148,
      "outputs": [
        {
          "output_type": "stream",
          "text": [
            "0.019942522048950195\n"
          ],
          "name": "stdout"
        },
        {
          "output_type": "execute_result",
          "data": {
            "text/plain": [
              "Text(0.5, 1.0, 'Binh & Korn function')"
            ]
          },
          "metadata": {
            "tags": []
          },
          "execution_count": 148
        },
        {
          "output_type": "display_data",
          "data": {
            "image/png": "[encoded data removed]",
            "text/plain": [
              "<Figure size 576x432 with 1 Axes>"
            ]
          },
          "metadata": {
            "tags": [],
            "needs_background": "light"
          }
        }
      ]
    }
  ]
}